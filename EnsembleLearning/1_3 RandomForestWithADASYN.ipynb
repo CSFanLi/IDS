{
 "cells": [
  {
   "cell_type": "code",
   "execution_count": 1,
   "id": "7c78436a",
   "metadata": {},
   "outputs": [],
   "source": [
    "#Author     : Fan Li\n",
    "#Update Date: 3/12/2022\n",
    "#Version    : 3.0\n",
    "\n",
    "#Intrusion Detection System Using Machine Learning (Random Forest)\n",
    "\n",
    "#Original Data (cic ids 2017)\n",
    "\n",
    "#hardware\n",
    "#12vCPUs | 48GiB | c7.3xlarge.4\n",
    "\n",
    "#System\n",
    "#Ubuntu 20.04 server 64bit"
   ]
  },
  {
   "cell_type": "code",
   "execution_count": 2,
   "id": "6e3df41e",
   "metadata": {},
   "outputs": [],
   "source": [
    "#1. Loading Module\n",
    "#basic\n",
    "import os\n",
    "os.environ['OPENBLAS_NUM_THREADS'] = '1'\n",
    "import gc    #memory manage\n",
    "\n",
    "import math\n",
    "import numpy as np\n",
    "import pandas as pd\n",
    "\n",
    "#draw figure\n",
    "import seaborn as sns\n",
    "import matplotlib.pyplot as plt\n",
    "\n",
    "#preprocessing\n",
    "from sklearn.preprocessing import LabelEncoder\n",
    "from sklearn.preprocessing import OneHotEncoder\n",
    "from collections import Counter\n",
    "\n",
    "#Feature Selection\n",
    "\n",
    "from sklearn.model_selection import cross_val_score\n",
    "from sklearn.feature_selection import VarianceThreshold\n",
    "from sklearn.feature_selection import SelectKBest\n",
    "from sklearn.feature_selection import chi2\n",
    "\n",
    "from sklearn.preprocessing import MinMaxScaler\n",
    "from sklearn.preprocessing import StandardScaler\n",
    "\n",
    "#model\n",
    "from sklearn.ensemble import AdaBoostClassifier\n",
    "from sklearn.ensemble import GradientBoostingClassifier\n",
    "from sklearn.ensemble import RandomForestClassifier\n",
    "\n",
    "from sklearn.neighbors import KNeighborsClassifier\n",
    "\n",
    "#over-sampling and under sampling\n",
    "from imblearn.over_sampling import SMOTE, ADASYN\n",
    "from imblearn.over_sampling import KMeansSMOTE\n",
    "\n",
    "#metrics\n",
    "from sklearn import model_selection,feature_selection,utils,ensemble,metrics\n",
    "\n",
    "#time\n",
    "from time import time\n",
    "import datetime"
   ]
  },
  {
   "cell_type": "code",
   "execution_count": 3,
   "id": "c58e2b8b",
   "metadata": {},
   "outputs": [],
   "source": [
    "#2. Reading Dataset\n",
    "base_path=\"../../data/\"\n",
    "# Monday benign\n",
    "f1_path=base_path+\"Monday-WorkingHours.pcap_ISCX.csv\"\n",
    "f1=pd.read_csv(f1_path)\n",
    "#Tuesday benign\n",
    "f2_path=base_path+\"Tuesday-WorkingHours.pcap_ISCX.csv\"\n",
    "f2=pd.read_csv(f2_path)\n",
    "#Wed benign\n",
    "f3_path=base_path+\"Wednesday-workingHours.pcap_ISCX.csv\"\n",
    "f3=pd.read_csv(f3_path)\n",
    "#Thur WebAttack\n",
    "f4_path1=base_path+\"Thursday-WorkingHours-Morning-WebAttacks.pcap_ISCX.csv\"\n",
    "f41=pd.read_csv(f4_path1)\n",
    "f4_path2=base_path+\"Thursday-WorkingHours-Afternoon-Infilteration.pcap_ISCX.csv\"\n",
    "f42=pd.read_csv(f4_path2)\n",
    "#Fri Benign DDos PortScan\n",
    "f5_path1=base_path+\"Friday-WorkingHours-Morning.pcap_ISCX.csv\"\n",
    "f51=pd.read_csv(f5_path1)\n",
    "\n",
    "f5_path2=base_path+\"Friday-WorkingHours-Afternoon-PortScan.pcap_ISCX.csv\"\n",
    "f52=pd.read_csv(f5_path2)\n",
    "\n",
    "f5_path3=base_path+\"Friday-WorkingHours-Afternoon-DDos.pcap_ISCX.csv\"\n",
    "f53=pd.read_csv(f5_path3)"
   ]
  },
  {
   "cell_type": "code",
   "execution_count": 4,
   "id": "383f6514",
   "metadata": {},
   "outputs": [
    {
     "data": {
      "text/plain": [
       "(2830743, 79)"
      ]
     },
     "execution_count": 4,
     "metadata": {},
     "output_type": "execute_result"
    }
   ],
   "source": [
    "data=pd.concat((f1,f2,f3,f41,f42,f51,f52,f53))\n",
    "data.reset_index(inplace=True,drop=True) # duplicate index exist, reset index\n",
    "data.shape"
   ]
  },
  {
   "cell_type": "code",
   "execution_count": 5,
   "id": "64632bd6",
   "metadata": {},
   "outputs": [
    {
     "data": {
      "text/html": [
       "<div>\n",
       "<style scoped>\n",
       "    .dataframe tbody tr th:only-of-type {\n",
       "        vertical-align: middle;\n",
       "    }\n",
       "\n",
       "    .dataframe tbody tr th {\n",
       "        vertical-align: top;\n",
       "    }\n",
       "\n",
       "    .dataframe thead th {\n",
       "        text-align: right;\n",
       "    }\n",
       "</style>\n",
       "<table border=\"1\" class=\"dataframe\">\n",
       "  <thead>\n",
       "    <tr style=\"text-align: right;\">\n",
       "      <th></th>\n",
       "      <th>Destination Port</th>\n",
       "      <th>Flow Duration</th>\n",
       "      <th>Total Fwd Packets</th>\n",
       "      <th>Total Backward Packets</th>\n",
       "      <th>Total Length of Fwd Packets</th>\n",
       "      <th>Total Length of Bwd Packets</th>\n",
       "      <th>Fwd Packet Length Max</th>\n",
       "      <th>Fwd Packet Length Min</th>\n",
       "      <th>Fwd Packet Length Mean</th>\n",
       "      <th>Fwd Packet Length Std</th>\n",
       "      <th>...</th>\n",
       "      <th>min_seg_size_forward</th>\n",
       "      <th>Active Mean</th>\n",
       "      <th>Active Std</th>\n",
       "      <th>Active Max</th>\n",
       "      <th>Active Min</th>\n",
       "      <th>Idle Mean</th>\n",
       "      <th>Idle Std</th>\n",
       "      <th>Idle Max</th>\n",
       "      <th>Idle Min</th>\n",
       "      <th>Label</th>\n",
       "    </tr>\n",
       "  </thead>\n",
       "  <tbody>\n",
       "    <tr>\n",
       "      <th>0</th>\n",
       "      <td>49188</td>\n",
       "      <td>4</td>\n",
       "      <td>2</td>\n",
       "      <td>0</td>\n",
       "      <td>12</td>\n",
       "      <td>0</td>\n",
       "      <td>6</td>\n",
       "      <td>6</td>\n",
       "      <td>6.0</td>\n",
       "      <td>0.0</td>\n",
       "      <td>...</td>\n",
       "      <td>20</td>\n",
       "      <td>0.0</td>\n",
       "      <td>0.0</td>\n",
       "      <td>0</td>\n",
       "      <td>0</td>\n",
       "      <td>0.0</td>\n",
       "      <td>0.0</td>\n",
       "      <td>0</td>\n",
       "      <td>0</td>\n",
       "      <td>BENIGN</td>\n",
       "    </tr>\n",
       "    <tr>\n",
       "      <th>1</th>\n",
       "      <td>49188</td>\n",
       "      <td>1</td>\n",
       "      <td>2</td>\n",
       "      <td>0</td>\n",
       "      <td>12</td>\n",
       "      <td>0</td>\n",
       "      <td>6</td>\n",
       "      <td>6</td>\n",
       "      <td>6.0</td>\n",
       "      <td>0.0</td>\n",
       "      <td>...</td>\n",
       "      <td>20</td>\n",
       "      <td>0.0</td>\n",
       "      <td>0.0</td>\n",
       "      <td>0</td>\n",
       "      <td>0</td>\n",
       "      <td>0.0</td>\n",
       "      <td>0.0</td>\n",
       "      <td>0</td>\n",
       "      <td>0</td>\n",
       "      <td>BENIGN</td>\n",
       "    </tr>\n",
       "    <tr>\n",
       "      <th>2</th>\n",
       "      <td>49188</td>\n",
       "      <td>1</td>\n",
       "      <td>2</td>\n",
       "      <td>0</td>\n",
       "      <td>12</td>\n",
       "      <td>0</td>\n",
       "      <td>6</td>\n",
       "      <td>6</td>\n",
       "      <td>6.0</td>\n",
       "      <td>0.0</td>\n",
       "      <td>...</td>\n",
       "      <td>20</td>\n",
       "      <td>0.0</td>\n",
       "      <td>0.0</td>\n",
       "      <td>0</td>\n",
       "      <td>0</td>\n",
       "      <td>0.0</td>\n",
       "      <td>0.0</td>\n",
       "      <td>0</td>\n",
       "      <td>0</td>\n",
       "      <td>BENIGN</td>\n",
       "    </tr>\n",
       "    <tr>\n",
       "      <th>3</th>\n",
       "      <td>49188</td>\n",
       "      <td>1</td>\n",
       "      <td>2</td>\n",
       "      <td>0</td>\n",
       "      <td>12</td>\n",
       "      <td>0</td>\n",
       "      <td>6</td>\n",
       "      <td>6</td>\n",
       "      <td>6.0</td>\n",
       "      <td>0.0</td>\n",
       "      <td>...</td>\n",
       "      <td>20</td>\n",
       "      <td>0.0</td>\n",
       "      <td>0.0</td>\n",
       "      <td>0</td>\n",
       "      <td>0</td>\n",
       "      <td>0.0</td>\n",
       "      <td>0.0</td>\n",
       "      <td>0</td>\n",
       "      <td>0</td>\n",
       "      <td>BENIGN</td>\n",
       "    </tr>\n",
       "    <tr>\n",
       "      <th>4</th>\n",
       "      <td>49486</td>\n",
       "      <td>3</td>\n",
       "      <td>2</td>\n",
       "      <td>0</td>\n",
       "      <td>12</td>\n",
       "      <td>0</td>\n",
       "      <td>6</td>\n",
       "      <td>6</td>\n",
       "      <td>6.0</td>\n",
       "      <td>0.0</td>\n",
       "      <td>...</td>\n",
       "      <td>20</td>\n",
       "      <td>0.0</td>\n",
       "      <td>0.0</td>\n",
       "      <td>0</td>\n",
       "      <td>0</td>\n",
       "      <td>0.0</td>\n",
       "      <td>0.0</td>\n",
       "      <td>0</td>\n",
       "      <td>0</td>\n",
       "      <td>BENIGN</td>\n",
       "    </tr>\n",
       "    <tr>\n",
       "      <th>...</th>\n",
       "      <td>...</td>\n",
       "      <td>...</td>\n",
       "      <td>...</td>\n",
       "      <td>...</td>\n",
       "      <td>...</td>\n",
       "      <td>...</td>\n",
       "      <td>...</td>\n",
       "      <td>...</td>\n",
       "      <td>...</td>\n",
       "      <td>...</td>\n",
       "      <td>...</td>\n",
       "      <td>...</td>\n",
       "      <td>...</td>\n",
       "      <td>...</td>\n",
       "      <td>...</td>\n",
       "      <td>...</td>\n",
       "      <td>...</td>\n",
       "      <td>...</td>\n",
       "      <td>...</td>\n",
       "      <td>...</td>\n",
       "      <td>...</td>\n",
       "    </tr>\n",
       "    <tr>\n",
       "      <th>2830738</th>\n",
       "      <td>61374</td>\n",
       "      <td>61</td>\n",
       "      <td>1</td>\n",
       "      <td>1</td>\n",
       "      <td>6</td>\n",
       "      <td>6</td>\n",
       "      <td>6</td>\n",
       "      <td>6</td>\n",
       "      <td>6.0</td>\n",
       "      <td>0.0</td>\n",
       "      <td>...</td>\n",
       "      <td>20</td>\n",
       "      <td>0.0</td>\n",
       "      <td>0.0</td>\n",
       "      <td>0</td>\n",
       "      <td>0</td>\n",
       "      <td>0.0</td>\n",
       "      <td>0.0</td>\n",
       "      <td>0</td>\n",
       "      <td>0</td>\n",
       "      <td>BENIGN</td>\n",
       "    </tr>\n",
       "    <tr>\n",
       "      <th>2830739</th>\n",
       "      <td>61378</td>\n",
       "      <td>72</td>\n",
       "      <td>1</td>\n",
       "      <td>1</td>\n",
       "      <td>6</td>\n",
       "      <td>6</td>\n",
       "      <td>6</td>\n",
       "      <td>6</td>\n",
       "      <td>6.0</td>\n",
       "      <td>0.0</td>\n",
       "      <td>...</td>\n",
       "      <td>20</td>\n",
       "      <td>0.0</td>\n",
       "      <td>0.0</td>\n",
       "      <td>0</td>\n",
       "      <td>0</td>\n",
       "      <td>0.0</td>\n",
       "      <td>0.0</td>\n",
       "      <td>0</td>\n",
       "      <td>0</td>\n",
       "      <td>BENIGN</td>\n",
       "    </tr>\n",
       "    <tr>\n",
       "      <th>2830740</th>\n",
       "      <td>61375</td>\n",
       "      <td>75</td>\n",
       "      <td>1</td>\n",
       "      <td>1</td>\n",
       "      <td>6</td>\n",
       "      <td>6</td>\n",
       "      <td>6</td>\n",
       "      <td>6</td>\n",
       "      <td>6.0</td>\n",
       "      <td>0.0</td>\n",
       "      <td>...</td>\n",
       "      <td>20</td>\n",
       "      <td>0.0</td>\n",
       "      <td>0.0</td>\n",
       "      <td>0</td>\n",
       "      <td>0</td>\n",
       "      <td>0.0</td>\n",
       "      <td>0.0</td>\n",
       "      <td>0</td>\n",
       "      <td>0</td>\n",
       "      <td>BENIGN</td>\n",
       "    </tr>\n",
       "    <tr>\n",
       "      <th>2830741</th>\n",
       "      <td>61323</td>\n",
       "      <td>48</td>\n",
       "      <td>2</td>\n",
       "      <td>0</td>\n",
       "      <td>12</td>\n",
       "      <td>0</td>\n",
       "      <td>6</td>\n",
       "      <td>6</td>\n",
       "      <td>6.0</td>\n",
       "      <td>0.0</td>\n",
       "      <td>...</td>\n",
       "      <td>20</td>\n",
       "      <td>0.0</td>\n",
       "      <td>0.0</td>\n",
       "      <td>0</td>\n",
       "      <td>0</td>\n",
       "      <td>0.0</td>\n",
       "      <td>0.0</td>\n",
       "      <td>0</td>\n",
       "      <td>0</td>\n",
       "      <td>BENIGN</td>\n",
       "    </tr>\n",
       "    <tr>\n",
       "      <th>2830742</th>\n",
       "      <td>61326</td>\n",
       "      <td>68</td>\n",
       "      <td>1</td>\n",
       "      <td>1</td>\n",
       "      <td>6</td>\n",
       "      <td>6</td>\n",
       "      <td>6</td>\n",
       "      <td>6</td>\n",
       "      <td>6.0</td>\n",
       "      <td>0.0</td>\n",
       "      <td>...</td>\n",
       "      <td>20</td>\n",
       "      <td>0.0</td>\n",
       "      <td>0.0</td>\n",
       "      <td>0</td>\n",
       "      <td>0</td>\n",
       "      <td>0.0</td>\n",
       "      <td>0.0</td>\n",
       "      <td>0</td>\n",
       "      <td>0</td>\n",
       "      <td>BENIGN</td>\n",
       "    </tr>\n",
       "  </tbody>\n",
       "</table>\n",
       "<p>2830743 rows × 79 columns</p>\n",
       "</div>"
      ],
      "text/plain": [
       "          Destination Port   Flow Duration   Total Fwd Packets  \\\n",
       "0                    49188               4                   2   \n",
       "1                    49188               1                   2   \n",
       "2                    49188               1                   2   \n",
       "3                    49188               1                   2   \n",
       "4                    49486               3                   2   \n",
       "...                    ...             ...                 ...   \n",
       "2830738              61374              61                   1   \n",
       "2830739              61378              72                   1   \n",
       "2830740              61375              75                   1   \n",
       "2830741              61323              48                   2   \n",
       "2830742              61326              68                   1   \n",
       "\n",
       "          Total Backward Packets  Total Length of Fwd Packets  \\\n",
       "0                              0                           12   \n",
       "1                              0                           12   \n",
       "2                              0                           12   \n",
       "3                              0                           12   \n",
       "4                              0                           12   \n",
       "...                          ...                          ...   \n",
       "2830738                        1                            6   \n",
       "2830739                        1                            6   \n",
       "2830740                        1                            6   \n",
       "2830741                        0                           12   \n",
       "2830742                        1                            6   \n",
       "\n",
       "          Total Length of Bwd Packets   Fwd Packet Length Max  \\\n",
       "0                                   0                       6   \n",
       "1                                   0                       6   \n",
       "2                                   0                       6   \n",
       "3                                   0                       6   \n",
       "4                                   0                       6   \n",
       "...                               ...                     ...   \n",
       "2830738                             6                       6   \n",
       "2830739                             6                       6   \n",
       "2830740                             6                       6   \n",
       "2830741                             0                       6   \n",
       "2830742                             6                       6   \n",
       "\n",
       "          Fwd Packet Length Min   Fwd Packet Length Mean  \\\n",
       "0                             6                      6.0   \n",
       "1                             6                      6.0   \n",
       "2                             6                      6.0   \n",
       "3                             6                      6.0   \n",
       "4                             6                      6.0   \n",
       "...                         ...                      ...   \n",
       "2830738                       6                      6.0   \n",
       "2830739                       6                      6.0   \n",
       "2830740                       6                      6.0   \n",
       "2830741                       6                      6.0   \n",
       "2830742                       6                      6.0   \n",
       "\n",
       "          Fwd Packet Length Std  ...   min_seg_size_forward  Active Mean  \\\n",
       "0                           0.0  ...                     20          0.0   \n",
       "1                           0.0  ...                     20          0.0   \n",
       "2                           0.0  ...                     20          0.0   \n",
       "3                           0.0  ...                     20          0.0   \n",
       "4                           0.0  ...                     20          0.0   \n",
       "...                         ...  ...                    ...          ...   \n",
       "2830738                     0.0  ...                     20          0.0   \n",
       "2830739                     0.0  ...                     20          0.0   \n",
       "2830740                     0.0  ...                     20          0.0   \n",
       "2830741                     0.0  ...                     20          0.0   \n",
       "2830742                     0.0  ...                     20          0.0   \n",
       "\n",
       "          Active Std   Active Max   Active Min  Idle Mean   Idle Std  \\\n",
       "0                0.0            0            0        0.0        0.0   \n",
       "1                0.0            0            0        0.0        0.0   \n",
       "2                0.0            0            0        0.0        0.0   \n",
       "3                0.0            0            0        0.0        0.0   \n",
       "4                0.0            0            0        0.0        0.0   \n",
       "...              ...          ...          ...        ...        ...   \n",
       "2830738          0.0            0            0        0.0        0.0   \n",
       "2830739          0.0            0            0        0.0        0.0   \n",
       "2830740          0.0            0            0        0.0        0.0   \n",
       "2830741          0.0            0            0        0.0        0.0   \n",
       "2830742          0.0            0            0        0.0        0.0   \n",
       "\n",
       "          Idle Max   Idle Min   Label  \n",
       "0                0          0  BENIGN  \n",
       "1                0          0  BENIGN  \n",
       "2                0          0  BENIGN  \n",
       "3                0          0  BENIGN  \n",
       "4                0          0  BENIGN  \n",
       "...            ...        ...     ...  \n",
       "2830738          0          0  BENIGN  \n",
       "2830739          0          0  BENIGN  \n",
       "2830740          0          0  BENIGN  \n",
       "2830741          0          0  BENIGN  \n",
       "2830742          0          0  BENIGN  \n",
       "\n",
       "[2830743 rows x 79 columns]"
      ]
     },
     "execution_count": 5,
     "metadata": {},
     "output_type": "execute_result"
    }
   ],
   "source": [
    "data"
   ]
  },
  {
   "cell_type": "code",
   "execution_count": 6,
   "id": "283c7e69",
   "metadata": {},
   "outputs": [],
   "source": [
    "# too few samples in some subclasses of Web Attack, and they are combined into one class.\n",
    "#Tuesday Brute Force\n",
    "data[' Label'].replace(\"FTP-Patator\",\"BruteForce\",inplace=True,regex=True)\n",
    "data[' Label'].replace(\"SSH-Patator\",\"BruteForce\",inplace=True,regex=True)\n",
    "#Thursday Web Attack\n",
    "data[' Label'].replace(\"Web Attack .*\",\"Web Attack\",inplace=True,regex=True)\n",
    "#DoS \n",
    "data[' Label'].replace(\"DoS .*\",\"DoS\",inplace=True,regex=True)\n",
    "data[' Label'].replace(\"DDoS\",\"DoS\",inplace=True,regex=True)"
   ]
  },
  {
   "cell_type": "code",
   "execution_count": 7,
   "id": "3e97dc8c",
   "metadata": {},
   "outputs": [
    {
     "data": {
      "text/plain": [
       "BENIGN          2273097\n",
       "DoS              380688\n",
       "PortScan         158930\n",
       "BruteForce        13835\n",
       "Web Attack         2180\n",
       "Bot                1966\n",
       "Infiltration         36\n",
       "Heartbleed           11\n",
       "Name:  Label, dtype: int64"
      ]
     },
     "execution_count": 7,
     "metadata": {},
     "output_type": "execute_result"
    }
   ],
   "source": [
    "target_count_new=data[' Label'].value_counts(0)\n",
    "target_count_new"
   ]
  },
  {
   "cell_type": "code",
   "execution_count": 8,
   "id": "146ba814",
   "metadata": {},
   "outputs": [],
   "source": [
    "labels_new,values_new=zip(*sorted(target_count_new.items()))"
   ]
  },
  {
   "cell_type": "code",
   "execution_count": 9,
   "id": "2b02ba74",
   "metadata": {},
   "outputs": [
    {
     "data": {
      "image/png": "[encoded data removed]",
      "text/plain": [
       "<Figure size 4200x1800 with 1 Axes>"
      ]
     },
     "metadata": {},
     "output_type": "display_data"
    }
   ],
   "source": [
    "plt.figure(dpi=300,figsize=(14,6))\n",
    "plt.bar(labels_new,values_new)\n",
    "for x_new,y_new in zip(labels_new,values_new):\n",
    "    plt.text(x_new,y_new,y_new,ha=\"center\",va=\"bottom\",fontsize=16)\n",
    "plt.xticks(fontsize=16,rotation=0)\n",
    "plt.xlabel(\"8 Categories\",fontsize=22)\n",
    "plt.ylabel(\"Count\",fontsize=22)\n",
    "plt.show()"
   ]
  },
  {
   "cell_type": "code",
   "execution_count": 10,
   "id": "f6b9c003",
   "metadata": {},
   "outputs": [],
   "source": [
    "#3. Preprocessing\n",
    "#3.1 remove useless data\n",
    "#remove duplicate row\n",
    "data=data.drop_duplicates()\n",
    "#remove rows with null value and infinite value\n",
    "data=data.replace(np.inf,np.nan)\n",
    "data=data.dropna()"
   ]
  },
  {
   "cell_type": "code",
   "execution_count": 11,
   "id": "2d2ab7e8",
   "metadata": {},
   "outputs": [
    {
     "data": {
      "text/plain": [
       "BENIGN          2072476\n",
       "DoS              321759\n",
       "PortScan          90694\n",
       "BruteForce         9150\n",
       "Web Attack         2143\n",
       "Bot                1948\n",
       "Infiltration         36\n",
       "Heartbleed           11\n",
       "Name:  Label, dtype: int64"
      ]
     },
     "execution_count": 11,
     "metadata": {},
     "output_type": "execute_result"
    }
   ],
   "source": [
    "data[' Label'].value_counts()"
   ]
  },
  {
   "cell_type": "code",
   "execution_count": 12,
   "id": "cea1d07e",
   "metadata": {},
   "outputs": [
    {
     "name": "stdout",
     "output_type": "stream",
     "text": [
      "Counter({'BENIGN': 2072476, 'DoS': 321759, 'PortScan': 90694, 'BruteForce': 9150, 'Web Attack': 2143, 'Bot': 1948, 'Infiltration': 36, 'Heartbleed': 11})\n"
     ]
    }
   ],
   "source": [
    "X=data.iloc[:,:-1]\n",
    "y=data.iloc[:,-1]\n",
    "print(Counter(y))"
   ]
  },
  {
   "cell_type": "code",
   "execution_count": 13,
   "id": "f0adfd67",
   "metadata": {},
   "outputs": [
    {
     "name": "stdout",
     "output_type": "stream",
     "text": [
      "Counter({0: 2072476, 3: 321759, 6: 90694, 2: 9150, 7: 2143, 1: 1948, 5: 36, 4: 11})\n"
     ]
    }
   ],
   "source": [
    "#Label Encoding\n",
    "le=LabelEncoder()\n",
    "le=le.fit(y)\n",
    "le.classes_\n",
    "y=le.transform(y)\n",
    "print(Counter(y))"
   ]
  },
  {
   "cell_type": "code",
   "execution_count": 14,
   "id": "c273ad02",
   "metadata": {},
   "outputs": [
    {
     "data": {
      "text/plain": [
       "3692"
      ]
     },
     "execution_count": 14,
     "metadata": {},
     "output_type": "execute_result"
    }
   ],
   "source": [
    "#Ram Clean\n",
    "del data\n",
    "gc.collect()"
   ]
  },
  {
   "cell_type": "code",
   "execution_count": 15,
   "id": "7c2b259b",
   "metadata": {},
   "outputs": [],
   "source": [
    "#3.2 Splitting data\n",
    "X_train,X_test,y_train,y_test=model_selection.train_test_split(X,y,test_size=0.33,random_state=123456)"
   ]
  },
  {
   "cell_type": "code",
   "execution_count": 16,
   "id": "8b0cb88b",
   "metadata": {},
   "outputs": [
    {
     "name": "stdout",
     "output_type": "stream",
     "text": [
      "Counter({0: 1388615, 3: 215467, 6: 60860, 2: 6100, 7: 1440, 1: 1293, 5: 20, 4: 10})\n"
     ]
    }
   ],
   "source": [
    "print(Counter(y_train))"
   ]
  },
  {
   "cell_type": "code",
   "execution_count": 17,
   "id": "cc99cddd",
   "metadata": {},
   "outputs": [],
   "source": [
    "#3.3 SMOTE\n",
    "time0=time()\n",
    "AdaSYN=ADASYN(random_state=42,n_jobs=-1)\n",
    "X_train,y_train=AdaSYN.fit_resample(X_train,y_train)"
   ]
  },
  {
   "cell_type": "code",
   "execution_count": 18,
   "id": "c34298b2",
   "metadata": {},
   "outputs": [
    {
     "name": "stdout",
     "output_type": "stream",
     "text": [
      "Time of ADASYN : 564.773 s\n"
     ]
    }
   ],
   "source": [
    "print(\"Time of ADASYN : {:.3f} s\".format(time()-time0))"
   ]
  },
  {
   "cell_type": "code",
   "execution_count": 19,
   "id": "887996f4",
   "metadata": {},
   "outputs": [
    {
     "name": "stdout",
     "output_type": "stream",
     "text": [
      "Counter({3: 1389254, 2: 1388653, 0: 1388615, 4: 1388615, 5: 1388613, 7: 1388608, 1: 1388420, 6: 1387215})\n"
     ]
    }
   ],
   "source": [
    "print(Counter(y_train))"
   ]
  },
  {
   "cell_type": "code",
   "execution_count": 20,
   "id": "c4cf8564",
   "metadata": {},
   "outputs": [],
   "source": [
    "#4. Training\n",
    "clf=RandomForestClassifier(bootstrap=True,random_state=12345,n_jobs=-1)"
   ]
  },
  {
   "cell_type": "code",
   "execution_count": 21,
   "id": "1b0cecbe",
   "metadata": {},
   "outputs": [
    {
     "name": "stdout",
     "output_type": "stream",
     "text": [
      "Time of Training : 410.613 s\n"
     ]
    }
   ],
   "source": [
    "time1=time()\n",
    "clf.fit(X_train,y_train)\n",
    "print(\"Time of Training : {:.3f} s\".format(time()-time1))"
   ]
  },
  {
   "cell_type": "code",
   "execution_count": 22,
   "id": "4a7b5cf8",
   "metadata": {},
   "outputs": [],
   "source": [
    "y_pred_train=clf.predict(X_train)\n",
    "y_pred_test=clf.predict(X_test)"
   ]
  },
  {
   "cell_type": "code",
   "execution_count": 23,
   "id": "186abec3",
   "metadata": {},
   "outputs": [],
   "source": [
    "y_train_en=OneHotEncoder().fit_transform(pd.DataFrame(y_train)).toarray()"
   ]
  },
  {
   "cell_type": "code",
   "execution_count": 24,
   "id": "9261610b",
   "metadata": {},
   "outputs": [],
   "source": [
    "y_pred_train_en=OneHotEncoder().fit_transform(pd.DataFrame(y_pred_train)).toarray()"
   ]
  },
  {
   "cell_type": "code",
   "execution_count": 25,
   "id": "b6d70a0b",
   "metadata": {},
   "outputs": [
    {
     "data": {
      "text/plain": [
       "(array([[1., 0., 0., ..., 0., 0., 0.],\n",
       "        [1., 0., 0., ..., 0., 0., 0.],\n",
       "        [1., 0., 0., ..., 0., 0., 0.],\n",
       "        ...,\n",
       "        [0., 0., 0., ..., 0., 0., 1.],\n",
       "        [0., 0., 0., ..., 0., 0., 1.],\n",
       "        [0., 0., 0., ..., 0., 0., 1.]]),\n",
       " array([[1., 0., 0., ..., 0., 0., 0.],\n",
       "        [1., 0., 0., ..., 0., 0., 0.],\n",
       "        [1., 0., 0., ..., 0., 0., 0.],\n",
       "        ...,\n",
       "        [0., 0., 0., ..., 0., 0., 1.],\n",
       "        [0., 0., 0., ..., 0., 0., 1.],\n",
       "        [0., 0., 0., ..., 0., 0., 1.]]))"
      ]
     },
     "execution_count": 25,
     "metadata": {},
     "output_type": "execute_result"
    }
   ],
   "source": [
    "y_train_en,y_pred_train_en"
   ]
  },
  {
   "cell_type": "code",
   "execution_count": 26,
   "id": "a3de68f7",
   "metadata": {},
   "outputs": [],
   "source": [
    "y_test_en=OneHotEncoder().fit_transform(pd.DataFrame(y_test)).toarray()"
   ]
  },
  {
   "cell_type": "code",
   "execution_count": 27,
   "id": "3067401c",
   "metadata": {},
   "outputs": [],
   "source": [
    "y_pred_test_en=OneHotEncoder().fit_transform(pd.DataFrame(y_pred_test)).toarray()"
   ]
  },
  {
   "cell_type": "code",
   "execution_count": 28,
   "id": "776530c1",
   "metadata": {},
   "outputs": [
    {
     "data": {
      "text/plain": [
       "(array([[1., 0., 0., ..., 0., 0., 0.],\n",
       "        [1., 0., 0., ..., 0., 0., 0.],\n",
       "        [1., 0., 0., ..., 0., 0., 0.],\n",
       "        ...,\n",
       "        [1., 0., 0., ..., 0., 0., 0.],\n",
       "        [0., 0., 0., ..., 0., 0., 0.],\n",
       "        [1., 0., 0., ..., 0., 0., 0.]]),\n",
       " array([[1., 0., 0., ..., 0., 0., 0.],\n",
       "        [1., 0., 0., ..., 0., 0., 0.],\n",
       "        [1., 0., 0., ..., 0., 0., 0.],\n",
       "        ...,\n",
       "        [1., 0., 0., ..., 0., 0., 0.],\n",
       "        [0., 0., 0., ..., 0., 0., 0.],\n",
       "        [1., 0., 0., ..., 0., 0., 0.]]))"
      ]
     },
     "execution_count": 28,
     "metadata": {},
     "output_type": "execute_result"
    }
   ],
   "source": [
    "y_test_en,y_pred_test_en"
   ]
  },
  {
   "cell_type": "code",
   "execution_count": 29,
   "id": "aea98c55",
   "metadata": {},
   "outputs": [
    {
     "name": "stdout",
     "output_type": "stream",
     "text": [
      "==Train==\n",
      "[[1387955       0       0     131       0       0     529       0]\n",
      " [      0 1388420       0       0       0       0       0       0]\n",
      " [      0       0 1388653       0       0       0       0       0]\n",
      " [     12       0       0 1389234       0       0       0       8]\n",
      " [      0       0       0       0 1388615       0       0       0]\n",
      " [      0       0       0       0       0 1388613       0       0]\n",
      " [      4       0       0       0       0       0 1387209       2]\n",
      " [      0       0       0       0       0       0       0 1388608]]\n",
      "              precision    recall  f1-score   support\n",
      "\n",
      "           0       1.00      1.00      1.00   1388615\n",
      "           1       1.00      1.00      1.00   1388420\n",
      "           2       1.00      1.00      1.00   1388653\n",
      "           3       1.00      1.00      1.00   1389254\n",
      "           4       1.00      1.00      1.00   1388615\n",
      "           5       1.00      1.00      1.00   1388613\n",
      "           6       1.00      1.00      1.00   1387215\n",
      "           7       1.00      1.00      1.00   1388608\n",
      "\n",
      "    accuracy                           1.00  11107993\n",
      "   macro avg       1.00      1.00      1.00  11107993\n",
      "weighted avg       1.00      1.00      1.00  11107993\n",
      "\n",
      "Accuracy Score =  0.9999382481054759\n",
      "Precison       =  0.9999382234280916\n",
      "Recall         =  0.9999382481054759\n",
      "F1_score       =  0.9999382244034993\n",
      "Auc score      =  0.9999647131968\n"
     ]
    }
   ],
   "source": [
    "#5. Result \n",
    "#5.1 Original Data\n",
    "print(\"==Train==\")\n",
    "result=metrics.confusion_matrix(y_train,y_pred_train)\n",
    "report=metrics.classification_report(y_train,y_pred_train,zero_division=1)\n",
    "\n",
    "print(result)\n",
    "print(report)\n",
    "\n",
    "print(\"Accuracy Score = \",metrics.balanced_accuracy_score(y_train,y_pred_train))\n",
    "print(\"Precison       = \",metrics.precision_score(y_train,y_pred_train,average='macro'))\n",
    "print(\"Recall         = \",metrics.recall_score(y_train,y_pred_train,average='macro'))\n",
    "print(\"F1_score       = \",metrics.f1_score(y_train,y_pred_train,average='macro'))\n",
    "print(\"Auc score      = \",metrics.roc_auc_score(y_train_en,y_pred_train_en,average='macro'))"
   ]
  },
  {
   "cell_type": "code",
   "execution_count": 30,
   "id": "f7a293f7",
   "metadata": {},
   "outputs": [
    {
     "name": "stdout",
     "output_type": "stream",
     "text": [
      "Accuracy Score     : 0.9999382426690402\n",
      "Weighted Precision : 0.9999382608973197\n",
      "Weighted Recall    : 0.9999382426690402\n",
      "Weighted F1-score  : 0.9999382404233317\n"
     ]
    }
   ],
   "source": [
    "precision,recall,fscore,none= metrics.precision_recall_fscore_support(y_train, y_pred_train, average='weighted') \n",
    "print(\"Accuracy Score     : \"+(str(metrics.accuracy_score(y_train,y_pred_train))))\n",
    "print('Weighted Precision : '+(str(precision)))\n",
    "print('Weighted Recall    : '+(str(recall)))\n",
    "print('Weighted F1-score  : '+(str(fscore)))"
   ]
  },
  {
   "cell_type": "code",
   "execution_count": 31,
   "id": "fe8997da",
   "metadata": {},
   "outputs": [
    {
     "name": "stdout",
     "output_type": "stream",
     "text": [
      "==Test==\n",
      "[[682952    290      0    266      0      0    349      4]\n",
      " [    64    591      0      0      0      0      0      0]\n",
      " [     3      0   3046      0      0      0      0      1]\n",
      " [   103      0      0 106167      0      0     22      0]\n",
      " [     0      0      0      0      1      0      0      0]\n",
      " [     4      0      0      0      0     12      0      0]\n",
      " [    74      0      0      4      0      0  29754      2]\n",
      " [    10      0      0     16      0      0     12    665]]\n",
      "              precision    recall  f1-score   support\n",
      "\n",
      "           0       1.00      1.00      1.00    683861\n",
      "           1       0.67      0.90      0.77       655\n",
      "           2       1.00      1.00      1.00      3050\n",
      "           3       1.00      1.00      1.00    106292\n",
      "           4       1.00      1.00      1.00         1\n",
      "           5       1.00      0.75      0.86        16\n",
      "           6       0.99      1.00      0.99     29834\n",
      "           7       0.99      0.95      0.97       703\n",
      "\n",
      "    accuracy                           1.00    824412\n",
      "   macro avg       0.96      0.95      0.95    824412\n",
      "weighted avg       1.00      1.00      1.00    824412\n",
      "\n",
      "Accuracy Score =  0.9489672274175989\n",
      "Precison       =  0.9555798807266866\n",
      "Recall         =  0.9489672274175989\n",
      "F1_score       =  0.9478480910086682\n",
      "Auc score      =  0.9742913352507245\n"
     ]
    }
   ],
   "source": [
    "print(\"==Test==\")\n",
    "result=metrics.confusion_matrix(y_test,y_pred_test)\n",
    "report=metrics.classification_report(y_test,y_pred_test,zero_division=1)\n",
    "\n",
    "print(result)\n",
    "print(report)\n",
    "\n",
    "print(\"Accuracy Score = \",metrics.balanced_accuracy_score(y_test,y_pred_test))\n",
    "print(\"Precison       = \",metrics.precision_score(y_test,y_pred_test,average='macro'))\n",
    "print(\"Recall         = \",metrics.recall_score(y_test,y_pred_test,average='macro'))\n",
    "print(\"F1_score       = \",metrics.f1_score(y_test,y_pred_test,average='macro'))\n",
    "print(\"Auc score      = \",metrics.roc_auc_score(y_test_en,y_pred_test_en,average='macro'))"
   ]
  },
  {
   "cell_type": "code",
   "execution_count": 32,
   "id": "4a358f63",
   "metadata": {},
   "outputs": [
    {
     "name": "stdout",
     "output_type": "stream",
     "text": [
      "Accuracy Score     : 0.9985153054540691\n",
      "Weighted Precision : 0.9986100484285291\n",
      "Weighted Recall    : 0.9985153054540691\n",
      "Weighted F1-score  : 0.9985472020832526\n"
     ]
    }
   ],
   "source": [
    "tprecision,trecall,tfscore,none= metrics.precision_recall_fscore_support(y_test, y_pred_test, average='weighted')\n",
    "print(\"Accuracy Score     : \"+(str(metrics.accuracy_score(y_test,y_pred_test))))\n",
    "print('Weighted Precision : '+(str(tprecision)))\n",
    "print('Weighted Recall    : '+(str(trecall)))\n",
    "print('Weighted F1-score  : '+(str(tfscore)))"
   ]
  },
  {
   "cell_type": "markdown",
   "id": "38c020e3",
   "metadata": {},
   "source": [
    "### Random Forest With Original Data   \n",
    "Accuracy Score =  0.9103102912538195   \n",
    "Precison       =  0.9684073872067926   \n",
    "Recall         =  0.9103102912538195   \n",
    "F1_score       =  0.9340837954082126   \n",
    "Auc score      =  0.9548073632993797   "
   ]
  },
  {
   "cell_type": "markdown",
   "id": "008f8fd3",
   "metadata": {},
   "source": [
    "### Weight Metrics   \n",
    "Accuracy Score     : 0.9985189444112895   \n",
    "Weighted Precision : 0.99850615428196   \n",
    "Weighted Recall    : 0.9985189444112895   \n",
    "Weighted F1-score  : 0.9985091535241425   "
   ]
  },
  {
   "cell_type": "markdown",
   "id": "324ee517",
   "metadata": {},
   "source": [
    "### Random Forest With ADASYN\n",
    "Accuracy Score =  0.9489672274175989  \n",
    "Precison       =  0.9555798807266866  \n",
    "Recall         =  0.9489672274175989  \n",
    "F1_score       =  0.9478480910086682  \n",
    "Auc score      =  0.9742913352507245  "
   ]
  }
 ],
 "metadata": {
  "kernelspec": {
   "display_name": "Python 3 (ipykernel)",
   "language": "python",
   "name": "python3"
  },
  "language_info": {
   "codemirror_mode": {
    "name": "ipython",
    "version": 3
   },
   "file_extension": ".py",
   "mimetype": "text/x-python",
   "name": "python",
   "nbconvert_exporter": "python",
   "pygments_lexer": "ipython3",
   "version": "3.9.12"
  }
 },
 "nbformat": 4,
 "nbformat_minor": 5
}
