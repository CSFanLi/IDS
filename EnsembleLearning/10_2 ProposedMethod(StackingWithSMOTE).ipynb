{
 "cells": [
  {
   "cell_type": "code",
   "execution_count": 1,
   "id": "7c78436a",
   "metadata": {},
   "outputs": [],
   "source": [
    "#Author     : Fan Li\n",
    "#Update Date: 30/11/2022\n",
    "#Version    : 3.1\n",
    "\n",
    "#Intrusion Detection System Using Machine Learning \n",
    "#RandomForest、GBDT、Lightgbm、Xgboost、CatBoost \n",
    "\n",
    "\n",
    "#Proposed Framework \n",
    "#stacking (Xgboost + LogisticRegression) with SMOTE \n",
    "\n",
    "#Original Data (cic ids 2017)\n",
    "\n",
    "#Synthenic Minority Over-sampling Technique (SMOTE)\n",
    "\n",
    "\n",
    "#hardware\n",
    "#\n",
    "\n",
    "#System\n",
    "#Ubuntu 20.04 server 64bit"
   ]
  },
  {
   "cell_type": "code",
   "execution_count": 2,
   "id": "6e3df41e",
   "metadata": {},
   "outputs": [],
   "source": [
    "#1. Loading Module\n",
    "#basic\n",
    "import os\n",
    "os.environ['OPENBLAS_NUM_THREADS'] = '1'\n",
    "os.environ[\"CUDA_VISIBLE_DEVICES\"] = \"0\"\n",
    "import gc    #memory manage\n",
    "\n",
    "import math\n",
    "import numpy as np\n",
    "import pandas as pd\n",
    "\n",
    "#draw figure\n",
    "import seaborn as sns\n",
    "import matplotlib.pyplot as plt\n",
    "\n",
    "#preprocessing\n",
    "from sklearn.preprocessing import LabelEncoder\n",
    "from sklearn.preprocessing import OneHotEncoder\n",
    "from collections import Counter\n",
    "\n",
    "#Feature Selection\n",
    "\n",
    "from sklearn.model_selection import cross_val_score\n",
    "from sklearn.model_selection import StratifiedKFold\n",
    "\n",
    "from sklearn.feature_selection import VarianceThreshold\n",
    "from sklearn.feature_selection import SelectKBest\n",
    "from sklearn.feature_selection import chi2\n",
    "\n",
    "from sklearn.preprocessing import MinMaxScaler\n",
    "from sklearn.preprocessing import StandardScaler\n",
    "\n",
    "#model\n",
    "from sklearn.neighbors import KNeighborsClassifier\n",
    "\n",
    "from sklearn.ensemble import RandomForestClassifier\n",
    "from sklearn.ensemble import GradientBoostingClassifier\n",
    "from sklearn.ensemble import ExtraTreesClassifier\n",
    "\n",
    "from xgboost import XGBClassifier\n",
    "from lightgbm import LGBMClassifier\n",
    "from catboost import CatBoostClassifier\n",
    "\n",
    "from sklearn.ensemble import StackingClassifier\n",
    "from sklearn.linear_model import LogisticRegressionCV\n",
    "\n",
    "#metrics\n",
    "from sklearn import model_selection,feature_selection,utils,ensemble,metrics\n",
    "\n",
    "#over-sampling and under sampling\n",
    "from imblearn.combine import SMOTEENN\n",
    "from imblearn.over_sampling import SMOTE\n",
    "\n",
    "#time\n",
    "from time import time\n",
    "import datetime"
   ]
  },
  {
   "cell_type": "code",
   "execution_count": 3,
   "id": "c58e2b8b",
   "metadata": {},
   "outputs": [],
   "source": [
    "#2. Reading Dataset\n",
    "base_path=\"../../data/\"\n",
    "# Monday benign\n",
    "f1_path=base_path+\"Monday-WorkingHours.pcap_ISCX.csv\"\n",
    "f1=pd.read_csv(f1_path)\n",
    "#Tuesday benign\n",
    "f2_path=base_path+\"Tuesday-WorkingHours.pcap_ISCX.csv\"\n",
    "f2=pd.read_csv(f2_path)\n",
    "#Wed benign\n",
    "f3_path=base_path+\"Wednesday-workingHours.pcap_ISCX.csv\"\n",
    "f3=pd.read_csv(f3_path)\n",
    "#Thur WebAttack\n",
    "f4_path1=base_path+\"Thursday-WorkingHours-Morning-WebAttacks.pcap_ISCX.csv\"\n",
    "f41=pd.read_csv(f4_path1)\n",
    "f4_path2=base_path+\"Thursday-WorkingHours-Afternoon-Infilteration.pcap_ISCX.csv\"\n",
    "f42=pd.read_csv(f4_path2)\n",
    "#Fri Benign DDos PortScan\n",
    "f5_path1=base_path+\"Friday-WorkingHours-Morning.pcap_ISCX.csv\"\n",
    "f51=pd.read_csv(f5_path1)\n",
    "\n",
    "f5_path2=base_path+\"Friday-WorkingHours-Afternoon-PortScan.pcap_ISCX.csv\"\n",
    "f52=pd.read_csv(f5_path2)\n",
    "\n",
    "f5_path3=base_path+\"Friday-WorkingHours-Afternoon-DDos.pcap_ISCX.csv\"\n",
    "f53=pd.read_csv(f5_path3)"
   ]
  },
  {
   "cell_type": "code",
   "execution_count": null,
   "id": "383f6514",
   "metadata": {},
   "outputs": [],
   "source": [
    "data=pd.concat((f1,f2,f3,f41,f42,f51,f52,f53))\n",
    "data.reset_index(inplace=True,drop=True) # duplicate index exist, reset index\n",
    "data.shape"
   ]
  },
  {
   "cell_type": "code",
   "execution_count": null,
   "id": "64632bd6",
   "metadata": {},
   "outputs": [],
   "source": [
    "data"
   ]
  },
  {
   "cell_type": "code",
   "execution_count": null,
   "id": "283c7e69",
   "metadata": {},
   "outputs": [],
   "source": [
    "# too few samples in some subclasses of Web Attack, and they are combined into one class.\n",
    "#Tuesday Brute Force\n",
    "data[' Label'].replace(\"FTP-Patator\",\"BruteForce\",inplace=True,regex=True)\n",
    "data[' Label'].replace(\"SSH-Patator\",\"BruteForce\",inplace=True,regex=True)\n",
    "#Thursday Web Attack\n",
    "data[' Label'].replace(\"Web Attack .*\",\"Web Attack\",inplace=True,regex=True)\n",
    "#DoS \n",
    "data[' Label'].replace(\"DoS .*\",\"DoS\",inplace=True,regex=True)\n",
    "data[' Label'].replace(\"DDoS\",\"DoS\",inplace=True,regex=True)"
   ]
  },
  {
   "cell_type": "code",
   "execution_count": null,
   "id": "3e97dc8c",
   "metadata": {},
   "outputs": [],
   "source": [
    "target_count_new=data[' Label'].value_counts(0)\n",
    "target_count_new"
   ]
  },
  {
   "cell_type": "code",
   "execution_count": null,
   "id": "146ba814",
   "metadata": {},
   "outputs": [],
   "source": [
    "labels_new,values_new=zip(*sorted(target_count_new.items()))"
   ]
  },
  {
   "cell_type": "code",
   "execution_count": null,
   "id": "2b02ba74",
   "metadata": {},
   "outputs": [],
   "source": [
    "plt.figure(dpi=300,figsize=(15,6))\n",
    "plt.bar(labels_new,values_new)\n",
    "for x_new,y_new in zip(labels_new,values_new):\n",
    "    plt.text(x_new,y_new,y_new,ha=\"center\",va=\"bottom\")\n",
    "plt.xticks(fontsize=12,rotation=-90)\n",
    "plt.xlabel(\"8 Categories\",fontsize=16)\n",
    "plt.ylabel(\"Count\",fontsize=16)\n",
    "plt.show()"
   ]
  },
  {
   "cell_type": "code",
   "execution_count": null,
   "id": "f6b9c003",
   "metadata": {},
   "outputs": [],
   "source": [
    "#3. Preprocessing\n",
    "#3.1 remove useless data\n",
    "#remove duplicate row\n",
    "data=data.drop_duplicates()\n",
    "#remove rows with null value and infinite value\n",
    "data=data.replace(np.inf,np.nan)\n",
    "data=data.dropna()"
   ]
  },
  {
   "cell_type": "code",
   "execution_count": null,
   "id": "2d2ab7e8",
   "metadata": {},
   "outputs": [],
   "source": [
    "data[' Label'].value_counts()"
   ]
  },
  {
   "cell_type": "code",
   "execution_count": null,
   "id": "cea1d07e",
   "metadata": {},
   "outputs": [],
   "source": [
    "X=data.iloc[:,:-1]\n",
    "y=data.iloc[:,-1]\n",
    "print(Counter(y))"
   ]
  },
  {
   "cell_type": "code",
   "execution_count": null,
   "id": "f0adfd67",
   "metadata": {},
   "outputs": [],
   "source": [
    "#Label Encoding\n",
    "le=LabelEncoder()\n",
    "le=le.fit(y)\n",
    "le.classes_\n",
    "y=le.transform(y)\n",
    "print(Counter(y))"
   ]
  },
  {
   "cell_type": "code",
   "execution_count": null,
   "id": "c273ad02",
   "metadata": {},
   "outputs": [],
   "source": [
    "#Ram Clean\n",
    "del data\n",
    "gc.collect()"
   ]
  },
  {
   "cell_type": "code",
   "execution_count": null,
   "id": "7c2b259b",
   "metadata": {},
   "outputs": [],
   "source": [
    "#3.2 Splitting data\n",
    "X_train,X_test,y_train,y_test=model_selection.train_test_split(X,y,test_size=0.33,random_state=123456)"
   ]
  },
  {
   "cell_type": "code",
   "execution_count": null,
   "id": "8b0cb88b",
   "metadata": {},
   "outputs": [],
   "source": [
    "print(Counter(y_train))"
   ]
  },
  {
   "cell_type": "code",
   "execution_count": null,
   "id": "ec8d9d29",
   "metadata": {},
   "outputs": [],
   "source": [
    "#3.3 SMOTE\n",
    "time0=time()\n",
    "sm=SMOTE(k_neighbors=9,random_state=42,n_jobs=-1)\n",
    "X_train,y_train=sm.fit_resample(X_train,y_train)"
   ]
  },
  {
   "cell_type": "code",
   "execution_count": null,
   "id": "6aaec167",
   "metadata": {},
   "outputs": [],
   "source": [
    "print(\"Time of SMOTE : {:.3f} s\".format(time()-time0))"
   ]
  },
  {
   "cell_type": "code",
   "execution_count": null,
   "id": "c4cf8564",
   "metadata": {},
   "outputs": [],
   "source": [
    "#4. Training\n",
    "#4.1 Estimators (level 0)"
   ]
  },
  {
   "cell_type": "code",
   "execution_count": null,
   "id": "64685e37",
   "metadata": {},
   "outputs": [],
   "source": [
    "rfc=RandomForestClassifier(random_state=12345)"
   ]
  },
  {
   "cell_type": "code",
   "execution_count": null,
   "id": "f576871b",
   "metadata": {},
   "outputs": [],
   "source": [
    "xtc=ExtraTreesClassifier(random_state=12345)"
   ]
  },
  {
   "cell_type": "code",
   "execution_count": null,
   "id": "ab9cbdfd",
   "metadata": {},
   "outputs": [],
   "source": [
    "gbc=GradientBoostingClassifier(n_estimators=10,random_state=123456)"
   ]
  },
  {
   "cell_type": "code",
   "execution_count": null,
   "id": "3121a32c",
   "metadata": {},
   "outputs": [],
   "source": [
    "xgbc=XGBClassifier(n_estimators=100,random_state=12345)"
   ]
  },
  {
   "cell_type": "code",
   "execution_count": null,
   "id": "5b02f56c",
   "metadata": {},
   "outputs": [],
   "source": [
    "lgbc=LGBMClassifier(random_state=12345)"
   ]
  },
  {
   "cell_type": "code",
   "execution_count": null,
   "id": "4a4c11e0",
   "metadata": {},
   "outputs": [],
   "source": [
    "cbc=CatBoostClassifier(random_state=12345)"
   ]
  },
  {
   "cell_type": "code",
   "execution_count": null,
   "id": "40791ec0",
   "metadata": {},
   "outputs": [],
   "source": [
    "#estimators=[(\"GradientBoostingClassifier\",gbc),(\"XgboostClassifier\",xgbc),(\"LightGBM\",lgbc),(\"CatBoostingClassifier\",cbc)]\n",
    "#estimators=[(\"XgboostClassifier\",xgbc),(\"LightGBM\",lgbc),(\"CatBoostingClassifier\",cbc)]\n",
    "estimators=[(\"XgboostClassifier\",xgbc)]\n",
    "#final_estimator=RandomForestClassifier(random_state=12345,n_jobs=-1)\n",
    "final_estimator=LogisticRegressionCV(n_jobs=-1)"
   ]
  },
  {
   "cell_type": "code",
   "execution_count": null,
   "id": "6128fd5d",
   "metadata": {},
   "outputs": [],
   "source": [
    "#scv = StratifiedKFold(n_splits=5)"
   ]
  },
  {
   "cell_type": "code",
   "execution_count": null,
   "id": "3f6fe3dd",
   "metadata": {},
   "outputs": [],
   "source": [
    "clf=StackingClassifier(estimators=estimators,final_estimator=final_estimator)"
   ]
  },
  {
   "cell_type": "code",
   "execution_count": null,
   "id": "1b0cecbe",
   "metadata": {},
   "outputs": [],
   "source": [
    "time1=time()\n",
    "clf.fit(X_train,y_train)\n",
    "print(\"Time of Training : {:.3f} s\".format(time()-time1))"
   ]
  },
  {
   "cell_type": "code",
   "execution_count": 41,
   "id": "4a7b5cf8",
   "metadata": {},
   "outputs": [],
   "source": [
    "y_pred_train=clf.predict(X_train)\n",
    "y_pred_test=clf.predict(X_test)"
   ]
  },
  {
   "cell_type": "code",
   "execution_count": 42,
   "id": "186abec3",
   "metadata": {},
   "outputs": [],
   "source": [
    "y_train_en=OneHotEncoder().fit_transform(pd.DataFrame(y_train)).toarray()"
   ]
  },
  {
   "cell_type": "code",
   "execution_count": 43,
   "id": "9261610b",
   "metadata": {},
   "outputs": [],
   "source": [
    "y_pred_train_en=OneHotEncoder().fit_transform(pd.DataFrame(y_pred_train)).toarray()"
   ]
  },
  {
   "cell_type": "code",
   "execution_count": 44,
   "id": "b6d70a0b",
   "metadata": {},
   "outputs": [
    {
     "data": {
      "text/plain": [
       "(array([[1., 0., 0., ..., 0., 0., 0.],\n",
       "        [1., 0., 0., ..., 0., 0., 0.],\n",
       "        [1., 0., 0., ..., 0., 0., 0.],\n",
       "        ...,\n",
       "        [0., 0., 0., ..., 0., 0., 1.],\n",
       "        [0., 0., 0., ..., 0., 0., 1.],\n",
       "        [0., 0., 0., ..., 0., 0., 1.]]),\n",
       " array([[1., 0., 0., ..., 0., 0., 0.],\n",
       "        [1., 0., 0., ..., 0., 0., 0.],\n",
       "        [1., 0., 0., ..., 0., 0., 0.],\n",
       "        ...,\n",
       "        [0., 0., 0., ..., 0., 0., 1.],\n",
       "        [0., 0., 0., ..., 0., 0., 1.],\n",
       "        [0., 0., 0., ..., 0., 0., 1.]]))"
      ]
     },
     "execution_count": 44,
     "metadata": {},
     "output_type": "execute_result"
    }
   ],
   "source": [
    "y_train_en,y_pred_train_en"
   ]
  },
  {
   "cell_type": "code",
   "execution_count": 45,
   "id": "a3de68f7",
   "metadata": {},
   "outputs": [],
   "source": [
    "y_test_en=OneHotEncoder().fit_transform(pd.DataFrame(y_test)).toarray()"
   ]
  },
  {
   "cell_type": "code",
   "execution_count": 46,
   "id": "3067401c",
   "metadata": {},
   "outputs": [],
   "source": [
    "y_pred_test_en=OneHotEncoder().fit_transform(pd.DataFrame(y_pred_test)).toarray()"
   ]
  },
  {
   "cell_type": "code",
   "execution_count": 47,
   "id": "776530c1",
   "metadata": {},
   "outputs": [
    {
     "data": {
      "text/plain": [
       "(array([[1., 0., 0., ..., 0., 0., 0.],\n",
       "        [1., 0., 0., ..., 0., 0., 0.],\n",
       "        [1., 0., 0., ..., 0., 0., 0.],\n",
       "        ...,\n",
       "        [1., 0., 0., ..., 0., 0., 0.],\n",
       "        [0., 0., 0., ..., 0., 0., 0.],\n",
       "        [1., 0., 0., ..., 0., 0., 0.]]),\n",
       " array([[1., 0., 0., ..., 0., 0., 0.],\n",
       "        [1., 0., 0., ..., 0., 0., 0.],\n",
       "        [1., 0., 0., ..., 0., 0., 0.],\n",
       "        ...,\n",
       "        [1., 0., 0., ..., 0., 0., 0.],\n",
       "        [0., 0., 0., ..., 0., 0., 0.],\n",
       "        [1., 0., 0., ..., 0., 0., 0.]]))"
      ]
     },
     "execution_count": 47,
     "metadata": {},
     "output_type": "execute_result"
    }
   ],
   "source": [
    "y_test_en,y_pred_test_en"
   ]
  },
  {
   "cell_type": "code",
   "execution_count": 48,
   "id": "aea98c55",
   "metadata": {},
   "outputs": [
    {
     "name": "stdout",
     "output_type": "stream",
     "text": [
      "==Train==\n",
      "[[1387085     664       0     238       0       0     627       1]\n",
      " [     82 1388533       0       0       0       0       0       0]\n",
      " [      0       0 1388615       0       0       0       0       0]\n",
      " [     85       0       0 1388487       0       0      35       8]\n",
      " [      0       0       0       0 1388615       0       0       0]\n",
      " [      0       0       0       0       0 1388615       0       0]\n",
      " [      1       0       0      27       0       0 1388573      14]\n",
      " [      0       0       0       1       0       0       3 1388611]]\n",
      "              precision    recall  f1-score   support\n",
      "\n",
      "           0       1.00      1.00      1.00   1388615\n",
      "           1       1.00      1.00      1.00   1388615\n",
      "           2       1.00      1.00      1.00   1388615\n",
      "           3       1.00      1.00      1.00   1388615\n",
      "           4       1.00      1.00      1.00   1388615\n",
      "           5       1.00      1.00      1.00   1388615\n",
      "           6       1.00      1.00      1.00   1388615\n",
      "           7       1.00      1.00      1.00   1388615\n",
      "\n",
      "    accuracy                           1.00  11108920\n",
      "   macro avg       1.00      1.00      1.00  11108920\n",
      "weighted avg       1.00      1.00      1.00  11108920\n",
      "\n",
      "Accuracy Score =  0.99983922829582\n",
      "Precison       =  0.999839267741917\n",
      "Recall         =  0.99983922829582\n",
      "F1_score       =  0.9998392058583114\n",
      "Auc score      =  0.9999081304547544\n"
     ]
    }
   ],
   "source": [
    "#5. Result \n",
    "#5.1 Train\n",
    "print(\"==Train==\")\n",
    "result=metrics.confusion_matrix(y_train,y_pred_train)\n",
    "report=metrics.classification_report(y_train,y_pred_train,zero_division=1)\n",
    "\n",
    "print(result)\n",
    "print(report)\n",
    "\n",
    "print(\"Accuracy Score = \",metrics.balanced_accuracy_score(y_train,y_pred_train))\n",
    "print(\"Precison       = \",metrics.precision_score(y_train,y_pred_train,average='macro'))\n",
    "print(\"Recall         = \",metrics.recall_score(y_train,y_pred_train,average='macro'))\n",
    "print(\"F1_score       = \",metrics.f1_score(y_train,y_pred_train,average='macro'))\n",
    "print(\"Auc score      = \",metrics.roc_auc_score(y_train_en,y_pred_train_en,average='macro'))"
   ]
  },
  {
   "cell_type": "code",
   "execution_count": 49,
   "id": "f7a293f7",
   "metadata": {},
   "outputs": [
    {
     "name": "stdout",
     "output_type": "stream",
     "text": [
      "Accuracy Score     : 0.99983922829582\n",
      "Weighted Precision : 0.9998392677419171\n",
      "Weighted Recall    : 0.99983922829582\n",
      "Weighted F1-score  : 0.9998392058583113\n"
     ]
    }
   ],
   "source": [
    "precision,recall,fscore,none= metrics.precision_recall_fscore_support(y_train, y_pred_train, average='weighted') \n",
    "print(\"Accuracy Score     : \"+(str(metrics.accuracy_score(y_train,y_pred_train))))\n",
    "print('Weighted Precision : '+(str(precision)))\n",
    "print('Weighted Recall    : '+(str(recall)))\n",
    "print('Weighted F1-score  : '+(str(fscore)))"
   ]
  },
  {
   "cell_type": "code",
   "execution_count": 50,
   "id": "fe8997da",
   "metadata": {},
   "outputs": [
    {
     "name": "stdout",
     "output_type": "stream",
     "text": [
      "==Test==\n",
      "[[682936    424      1    145      0      2    351      2]\n",
      " [    10    645      0      0      0      0      0      0]\n",
      " [     1      0   3048      0      0      0      0      1]\n",
      " [    14      0      0 106267      0      0     10      1]\n",
      " [     0      0      0      0      1      0      0      0]\n",
      " [     1      0      0      0      0     15      0      0]\n",
      " [     3      0      0      4      0      0  29825      2]\n",
      " [     1      0      0      1      0      0      1    700]]\n",
      "              precision    recall  f1-score   support\n",
      "\n",
      "           0       1.00      1.00      1.00    683861\n",
      "           1       0.60      0.98      0.75       655\n",
      "           2       1.00      1.00      1.00      3050\n",
      "           3       1.00      1.00      1.00    106292\n",
      "           4       1.00      1.00      1.00         1\n",
      "           5       0.88      0.94      0.91        16\n",
      "           6       0.99      1.00      0.99     29834\n",
      "           7       0.99      1.00      0.99       703\n",
      "\n",
      "    accuracy                           1.00    824412\n",
      "   macro avg       0.93      0.99      0.96    824412\n",
      "weighted avg       1.00      1.00      1.00    824412\n",
      "\n",
      "Accuracy Score =  0.9894275221209294\n",
      "Precison       =  0.9329310777743772\n",
      "Recall         =  0.9894275221209294\n",
      "F1_score       =  0.9553460985510285\n",
      "Auc score      =  0.994626038893581\n"
     ]
    }
   ],
   "source": [
    "#5.2 Test\n",
    "print(\"==Test==\")\n",
    "result=metrics.confusion_matrix(y_test,y_pred_test)\n",
    "report=metrics.classification_report(y_test,y_pred_test,zero_division=1)\n",
    "\n",
    "print(result)\n",
    "print(report)\n",
    "\n",
    "print(\"Accuracy Score = \",metrics.balanced_accuracy_score(y_test,y_pred_test))\n",
    "print(\"Precison       = \",metrics.precision_score(y_test,y_pred_test,average='macro'))\n",
    "print(\"Recall         = \",metrics.recall_score(y_test,y_pred_test,average='macro'))\n",
    "print(\"F1_score       = \",metrics.f1_score(y_test,y_pred_test,average='macro'))\n",
    "print(\"Auc score      = \",metrics.roc_auc_score(y_test_en,y_pred_test_en,average='macro'))"
   ]
  },
  {
   "cell_type": "code",
   "execution_count": 51,
   "id": "4a358f63",
   "metadata": {
    "scrolled": true
   },
   "outputs": [
    {
     "name": "stdout",
     "output_type": "stream",
     "text": [
      "Accuracy Score     : 0.9988173389033639\n",
      "Weighted Precision : 0.9990219922092372\n",
      "Weighted Recall    : 0.9988173389033639\n",
      "Weighted F1-score  : 0.9988816207522491\n"
     ]
    }
   ],
   "source": [
    "tprecision,trecall,tfscore,none= metrics.precision_recall_fscore_support(y_test, y_pred_test, average='weighted')\n",
    "print(\"Accuracy Score     : \"+(str(metrics.accuracy_score(y_test,y_pred_test))))\n",
    "print('Weighted Precision : '+(str(tprecision)))\n",
    "print('Weighted Recall    : '+(str(trecall)))\n",
    "print('Weighted F1-score  : '+(str(tfscore)))"
   ]
  },
  {
   "cell_type": "markdown",
   "id": "9ed75014",
   "metadata": {},
   "source": [
    " "
   ]
  },
  {
   "cell_type": "markdown",
   "id": "1c144334",
   "metadata": {},
   "source": [
    "### Xgboost + LogisticRegression (Original Data)\n",
    "Accuracy Score =  0.9494163118894287  \n",
    "Precison       =  0.9817017338340577  \n",
    "Recall         =  0.9494163118894287  \n",
    "F1_score       =  0.9641099573831886  \n",
    "Auc score      =  0.9745784207103945  "
   ]
  },
  {
   "cell_type": "markdown",
   "id": "a2ed32b5",
   "metadata": {},
   "source": [
    "### Xgboost + Logistic Regression ( SMOTE)  \n",
    "Accuracy Score =  0.9894275221209294  \n",
    "Precison       =  0.9329310777743772  \n",
    "Recall         =  0.9894275221209294  \n",
    "F1_score       =  0.9553460985510285  \n",
    "Auc score      =  0.994626038893581  "
   ]
  }
 ],
 "metadata": {
  "kernelspec": {
   "display_name": "Python 3 (ipykernel)",
   "language": "python",
   "name": "python3"
  },
  "language_info": {
   "codemirror_mode": {
    "name": "ipython",
    "version": 3
   },
   "file_extension": ".py",
   "mimetype": "text/x-python",
   "name": "python",
   "nbconvert_exporter": "python",
   "pygments_lexer": "ipython3",
   "version": "3.9.12"
  }
 },
 "nbformat": 4,
 "nbformat_minor": 5
}
