{
 "cells": [
  {
   "cell_type": "code",
   "execution_count": 1,
   "id": "91ed2329",
   "metadata": {},
   "outputs": [],
   "source": [
    "#Author     : Fan Li\n",
    "#Update Date: 01/11/2022\n",
    "#Version    : 3.0"
   ]
  },
  {
   "cell_type": "code",
   "execution_count": 2,
   "id": "7c12bd99",
   "metadata": {},
   "outputs": [
    {
     "name": "stderr",
     "output_type": "stream",
     "text": [
      "/root/miniconda3/envs/sklearn/lib/python3.9/site-packages/_distutils_hack/__init__.py:33: UserWarning: Setuptools is replacing distutils.\n",
      "  warnings.warn(\"Setuptools is replacing distutils.\")\n"
     ]
    }
   ],
   "source": [
    "#Loading Module\n",
    "\n",
    "import numpy as np\n",
    "import pandas as pd\n",
    "\n",
    "import seaborn as sns\n",
    "import matplotlib as mlp\n",
    "\n",
    "import sklearn\n",
    "import imblearn\n",
    "\n",
    "import re,pip\n",
    "\n",
    "import xgboost\n",
    "import lightgbm\n",
    "import catboost\n"
   ]
  },
  {
   "cell_type": "code",
   "execution_count": 3,
   "id": "3224248e",
   "metadata": {},
   "outputs": [
    {
     "name": "stdout",
     "output_type": "stream",
     "text": [
      "numpy 1.23.2\n",
      "pandas 1.4.3\n",
      "seaborn 0.12.0\n",
      "matplotlib 3.5.3\n",
      "sklearn 1.1.2\n",
      "imblearn 0.9.1\n",
      "re 2.2.1\n",
      "pip 22.1.2\n",
      "xgboost 1.6.2\n",
      "lightgbm 3.3.2\n",
      "catboost 1.1.1\n"
     ]
    }
   ],
   "source": [
    "for package in [np,pd,sns,mlp,sklearn,imblearn,re,pip,xgboost,lightgbm,catboost]:\n",
    "    print(re.findall(\"([^']*)\",str(package))[2],package.__version__)"
   ]
  },
  {
   "cell_type": "code",
   "execution_count": null,
   "id": "a339ee4e",
   "metadata": {},
   "outputs": [],
   "source": []
  }
 ],
 "metadata": {
  "kernelspec": {
   "display_name": "Python 3 (ipykernel)",
   "language": "python",
   "name": "python3"
  },
  "language_info": {
   "codemirror_mode": {
    "name": "ipython",
    "version": 3
   },
   "file_extension": ".py",
   "mimetype": "text/x-python",
   "name": "python",
   "nbconvert_exporter": "python",
   "pygments_lexer": "ipython3",
   "version": "3.9.12"
  }
 },
 "nbformat": 4,
 "nbformat_minor": 5
}
