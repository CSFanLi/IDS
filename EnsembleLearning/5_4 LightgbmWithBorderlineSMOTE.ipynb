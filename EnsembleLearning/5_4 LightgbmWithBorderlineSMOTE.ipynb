{
 "cells": [
  {
   "cell_type": "code",
   "execution_count": 1,
   "id": "7c78436a",
   "metadata": {},
   "outputs": [],
   "source": [
    "#Author     : Fan Li\n",
    "#Update Date: 03/11/2022\n",
    "#Version    : 3.0\n",
    "\n",
    "#Intrusion Detection System Using Ensemble Methods (LightGBM)\n",
    "\n",
    "#Original Data (cic ids 2017)\n",
    "\n",
    "#Synthenic Minority Over-sampling Technique (SMOTE)\n",
    "\n",
    "#hardware\n",
    "\n",
    "#16vCPUs | 64GiB | c7.4xlarge.4\n",
    "\n",
    "#System\n",
    "#Ubuntu 20.04 server 64bit"
   ]
  },
  {
   "cell_type": "code",
   "execution_count": 2,
   "id": "6e3df41e",
   "metadata": {},
   "outputs": [],
   "source": [
    "#1. Loading Module\n",
    "#basic\n",
    "import os\n",
    "os.environ['OPENBLAS_NUM_THREADS'] = '1'\n",
    "import gc    #memory manage\n",
    "\n",
    "import math\n",
    "import numpy as np\n",
    "import pandas as pd\n",
    "\n",
    "#draw figure\n",
    "import seaborn as sns\n",
    "import matplotlib.pyplot as plt\n",
    "\n",
    "#preprocessing\n",
    "from sklearn.preprocessing import LabelEncoder\n",
    "from sklearn.preprocessing import OneHotEncoder\n",
    "from collections import Counter\n",
    "\n",
    "#Feature Selection\n",
    "\n",
    "from sklearn.model_selection import cross_val_score\n",
    "from sklearn.feature_selection import VarianceThreshold\n",
    "from sklearn.feature_selection import SelectKBest\n",
    "from sklearn.feature_selection import chi2\n",
    "\n",
    "from sklearn.preprocessing import MinMaxScaler\n",
    "from sklearn.preprocessing import StandardScaler\n",
    "\n",
    "#model\n",
    "from sklearn.ensemble import AdaBoostClassifier\n",
    "from sklearn.ensemble import GradientBoostingClassifier\n",
    "from sklearn.ensemble import RandomForestClassifier\n",
    "\n",
    "from xgboost import XGBClassifier\n",
    "\n",
    "from lightgbm import LGBMClassifier\n",
    "from sklearn.neighbors import KNeighborsClassifier\n",
    "\n",
    "#metrics\n",
    "\n",
    "from sklearn import model_selection,feature_selection,utils,ensemble,metrics\n",
    "\n",
    "#over-sampling and under sampling\n",
    "from imblearn.combine import SMOTEENN\n",
    "from imblearn.over_sampling import SMOTE,ADASYN,BorderlineSMOTE\n",
    "\n",
    "#time\n",
    "from time import time\n",
    "import datetime"
   ]
  },
  {
   "cell_type": "code",
   "execution_count": 3,
   "id": "c58e2b8b",
   "metadata": {},
   "outputs": [],
   "source": [
    "#2. Reading Dataset\n",
    "base_path=\"../../data/\"\n",
    "# Monday benign\n",
    "f1_path=base_path+\"Monday-WorkingHours.pcap_ISCX.csv\"\n",
    "f1=pd.read_csv(f1_path)\n",
    "#Tuesday benign\n",
    "f2_path=base_path+\"Tuesday-WorkingHours.pcap_ISCX.csv\"\n",
    "f2=pd.read_csv(f2_path)\n",
    "#Wed benign\n",
    "f3_path=base_path+\"Wednesday-workingHours.pcap_ISCX.csv\"\n",
    "f3=pd.read_csv(f3_path)\n",
    "#Thur WebAttack\n",
    "f4_path1=base_path+\"Thursday-WorkingHours-Morning-WebAttacks.pcap_ISCX.csv\"\n",
    "f41=pd.read_csv(f4_path1)\n",
    "f4_path2=base_path+\"Thursday-WorkingHours-Afternoon-Infilteration.pcap_ISCX.csv\"\n",
    "f42=pd.read_csv(f4_path2)\n",
    "#Fri Benign DDos PortScan\n",
    "f5_path1=base_path+\"Friday-WorkingHours-Morning.pcap_ISCX.csv\"\n",
    "f51=pd.read_csv(f5_path1)\n",
    "\n",
    "f5_path2=base_path+\"Friday-WorkingHours-Afternoon-PortScan.pcap_ISCX.csv\"\n",
    "f52=pd.read_csv(f5_path2)\n",
    "\n",
    "f5_path3=base_path+\"Friday-WorkingHours-Afternoon-DDos.pcap_ISCX.csv\"\n",
    "f53=pd.read_csv(f5_path3)"
   ]
  },
  {
   "cell_type": "code",
   "execution_count": 4,
   "id": "383f6514",
   "metadata": {},
   "outputs": [
    {
     "data": {
      "text/plain": [
       "(2830743, 79)"
      ]
     },
     "execution_count": 4,
     "metadata": {},
     "output_type": "execute_result"
    }
   ],
   "source": [
    "data=pd.concat((f1,f2,f3,f41,f42,f51,f52,f53))\n",
    "data.reset_index(inplace=True,drop=True) # duplicate index exist, reset index\n",
    "data.shape"
   ]
  },
  {
   "cell_type": "code",
   "execution_count": 5,
   "id": "64632bd6",
   "metadata": {},
   "outputs": [
    {
     "data": {
      "text/html": [
       "<div>\n",
       "<style scoped>\n",
       "    .dataframe tbody tr th:only-of-type {\n",
       "        vertical-align: middle;\n",
       "    }\n",
       "\n",
       "    .dataframe tbody tr th {\n",
       "        vertical-align: top;\n",
       "    }\n",
       "\n",
       "    .dataframe thead th {\n",
       "        text-align: right;\n",
       "    }\n",
       "</style>\n",
       "<table border=\"1\" class=\"dataframe\">\n",
       "  <thead>\n",
       "    <tr style=\"text-align: right;\">\n",
       "      <th></th>\n",
       "      <th>Destination Port</th>\n",
       "      <th>Flow Duration</th>\n",
       "      <th>Total Fwd Packets</th>\n",
       "      <th>Total Backward Packets</th>\n",
       "      <th>Total Length of Fwd Packets</th>\n",
       "      <th>Total Length of Bwd Packets</th>\n",
       "      <th>Fwd Packet Length Max</th>\n",
       "      <th>Fwd Packet Length Min</th>\n",
       "      <th>Fwd Packet Length Mean</th>\n",
       "      <th>Fwd Packet Length Std</th>\n",
       "      <th>...</th>\n",
       "      <th>min_seg_size_forward</th>\n",
       "      <th>Active Mean</th>\n",
       "      <th>Active Std</th>\n",
       "      <th>Active Max</th>\n",
       "      <th>Active Min</th>\n",
       "      <th>Idle Mean</th>\n",
       "      <th>Idle Std</th>\n",
       "      <th>Idle Max</th>\n",
       "      <th>Idle Min</th>\n",
       "      <th>Label</th>\n",
       "    </tr>\n",
       "  </thead>\n",
       "  <tbody>\n",
       "    <tr>\n",
       "      <th>0</th>\n",
       "      <td>49188</td>\n",
       "      <td>4</td>\n",
       "      <td>2</td>\n",
       "      <td>0</td>\n",
       "      <td>12</td>\n",
       "      <td>0</td>\n",
       "      <td>6</td>\n",
       "      <td>6</td>\n",
       "      <td>6.0</td>\n",
       "      <td>0.0</td>\n",
       "      <td>...</td>\n",
       "      <td>20</td>\n",
       "      <td>0.0</td>\n",
       "      <td>0.0</td>\n",
       "      <td>0</td>\n",
       "      <td>0</td>\n",
       "      <td>0.0</td>\n",
       "      <td>0.0</td>\n",
       "      <td>0</td>\n",
       "      <td>0</td>\n",
       "      <td>BENIGN</td>\n",
       "    </tr>\n",
       "    <tr>\n",
       "      <th>1</th>\n",
       "      <td>49188</td>\n",
       "      <td>1</td>\n",
       "      <td>2</td>\n",
       "      <td>0</td>\n",
       "      <td>12</td>\n",
       "      <td>0</td>\n",
       "      <td>6</td>\n",
       "      <td>6</td>\n",
       "      <td>6.0</td>\n",
       "      <td>0.0</td>\n",
       "      <td>...</td>\n",
       "      <td>20</td>\n",
       "      <td>0.0</td>\n",
       "      <td>0.0</td>\n",
       "      <td>0</td>\n",
       "      <td>0</td>\n",
       "      <td>0.0</td>\n",
       "      <td>0.0</td>\n",
       "      <td>0</td>\n",
       "      <td>0</td>\n",
       "      <td>BENIGN</td>\n",
       "    </tr>\n",
       "    <tr>\n",
       "      <th>2</th>\n",
       "      <td>49188</td>\n",
       "      <td>1</td>\n",
       "      <td>2</td>\n",
       "      <td>0</td>\n",
       "      <td>12</td>\n",
       "      <td>0</td>\n",
       "      <td>6</td>\n",
       "      <td>6</td>\n",
       "      <td>6.0</td>\n",
       "      <td>0.0</td>\n",
       "      <td>...</td>\n",
       "      <td>20</td>\n",
       "      <td>0.0</td>\n",
       "      <td>0.0</td>\n",
       "      <td>0</td>\n",
       "      <td>0</td>\n",
       "      <td>0.0</td>\n",
       "      <td>0.0</td>\n",
       "      <td>0</td>\n",
       "      <td>0</td>\n",
       "      <td>BENIGN</td>\n",
       "    </tr>\n",
       "    <tr>\n",
       "      <th>3</th>\n",
       "      <td>49188</td>\n",
       "      <td>1</td>\n",
       "      <td>2</td>\n",
       "      <td>0</td>\n",
       "      <td>12</td>\n",
       "      <td>0</td>\n",
       "      <td>6</td>\n",
       "      <td>6</td>\n",
       "      <td>6.0</td>\n",
       "      <td>0.0</td>\n",
       "      <td>...</td>\n",
       "      <td>20</td>\n",
       "      <td>0.0</td>\n",
       "      <td>0.0</td>\n",
       "      <td>0</td>\n",
       "      <td>0</td>\n",
       "      <td>0.0</td>\n",
       "      <td>0.0</td>\n",
       "      <td>0</td>\n",
       "      <td>0</td>\n",
       "      <td>BENIGN</td>\n",
       "    </tr>\n",
       "    <tr>\n",
       "      <th>4</th>\n",
       "      <td>49486</td>\n",
       "      <td>3</td>\n",
       "      <td>2</td>\n",
       "      <td>0</td>\n",
       "      <td>12</td>\n",
       "      <td>0</td>\n",
       "      <td>6</td>\n",
       "      <td>6</td>\n",
       "      <td>6.0</td>\n",
       "      <td>0.0</td>\n",
       "      <td>...</td>\n",
       "      <td>20</td>\n",
       "      <td>0.0</td>\n",
       "      <td>0.0</td>\n",
       "      <td>0</td>\n",
       "      <td>0</td>\n",
       "      <td>0.0</td>\n",
       "      <td>0.0</td>\n",
       "      <td>0</td>\n",
       "      <td>0</td>\n",
       "      <td>BENIGN</td>\n",
       "    </tr>\n",
       "    <tr>\n",
       "      <th>...</th>\n",
       "      <td>...</td>\n",
       "      <td>...</td>\n",
       "      <td>...</td>\n",
       "      <td>...</td>\n",
       "      <td>...</td>\n",
       "      <td>...</td>\n",
       "      <td>...</td>\n",
       "      <td>...</td>\n",
       "      <td>...</td>\n",
       "      <td>...</td>\n",
       "      <td>...</td>\n",
       "      <td>...</td>\n",
       "      <td>...</td>\n",
       "      <td>...</td>\n",
       "      <td>...</td>\n",
       "      <td>...</td>\n",
       "      <td>...</td>\n",
       "      <td>...</td>\n",
       "      <td>...</td>\n",
       "      <td>...</td>\n",
       "      <td>...</td>\n",
       "    </tr>\n",
       "    <tr>\n",
       "      <th>2830738</th>\n",
       "      <td>61374</td>\n",
       "      <td>61</td>\n",
       "      <td>1</td>\n",
       "      <td>1</td>\n",
       "      <td>6</td>\n",
       "      <td>6</td>\n",
       "      <td>6</td>\n",
       "      <td>6</td>\n",
       "      <td>6.0</td>\n",
       "      <td>0.0</td>\n",
       "      <td>...</td>\n",
       "      <td>20</td>\n",
       "      <td>0.0</td>\n",
       "      <td>0.0</td>\n",
       "      <td>0</td>\n",
       "      <td>0</td>\n",
       "      <td>0.0</td>\n",
       "      <td>0.0</td>\n",
       "      <td>0</td>\n",
       "      <td>0</td>\n",
       "      <td>BENIGN</td>\n",
       "    </tr>\n",
       "    <tr>\n",
       "      <th>2830739</th>\n",
       "      <td>61378</td>\n",
       "      <td>72</td>\n",
       "      <td>1</td>\n",
       "      <td>1</td>\n",
       "      <td>6</td>\n",
       "      <td>6</td>\n",
       "      <td>6</td>\n",
       "      <td>6</td>\n",
       "      <td>6.0</td>\n",
       "      <td>0.0</td>\n",
       "      <td>...</td>\n",
       "      <td>20</td>\n",
       "      <td>0.0</td>\n",
       "      <td>0.0</td>\n",
       "      <td>0</td>\n",
       "      <td>0</td>\n",
       "      <td>0.0</td>\n",
       "      <td>0.0</td>\n",
       "      <td>0</td>\n",
       "      <td>0</td>\n",
       "      <td>BENIGN</td>\n",
       "    </tr>\n",
       "    <tr>\n",
       "      <th>2830740</th>\n",
       "      <td>61375</td>\n",
       "      <td>75</td>\n",
       "      <td>1</td>\n",
       "      <td>1</td>\n",
       "      <td>6</td>\n",
       "      <td>6</td>\n",
       "      <td>6</td>\n",
       "      <td>6</td>\n",
       "      <td>6.0</td>\n",
       "      <td>0.0</td>\n",
       "      <td>...</td>\n",
       "      <td>20</td>\n",
       "      <td>0.0</td>\n",
       "      <td>0.0</td>\n",
       "      <td>0</td>\n",
       "      <td>0</td>\n",
       "      <td>0.0</td>\n",
       "      <td>0.0</td>\n",
       "      <td>0</td>\n",
       "      <td>0</td>\n",
       "      <td>BENIGN</td>\n",
       "    </tr>\n",
       "    <tr>\n",
       "      <th>2830741</th>\n",
       "      <td>61323</td>\n",
       "      <td>48</td>\n",
       "      <td>2</td>\n",
       "      <td>0</td>\n",
       "      <td>12</td>\n",
       "      <td>0</td>\n",
       "      <td>6</td>\n",
       "      <td>6</td>\n",
       "      <td>6.0</td>\n",
       "      <td>0.0</td>\n",
       "      <td>...</td>\n",
       "      <td>20</td>\n",
       "      <td>0.0</td>\n",
       "      <td>0.0</td>\n",
       "      <td>0</td>\n",
       "      <td>0</td>\n",
       "      <td>0.0</td>\n",
       "      <td>0.0</td>\n",
       "      <td>0</td>\n",
       "      <td>0</td>\n",
       "      <td>BENIGN</td>\n",
       "    </tr>\n",
       "    <tr>\n",
       "      <th>2830742</th>\n",
       "      <td>61326</td>\n",
       "      <td>68</td>\n",
       "      <td>1</td>\n",
       "      <td>1</td>\n",
       "      <td>6</td>\n",
       "      <td>6</td>\n",
       "      <td>6</td>\n",
       "      <td>6</td>\n",
       "      <td>6.0</td>\n",
       "      <td>0.0</td>\n",
       "      <td>...</td>\n",
       "      <td>20</td>\n",
       "      <td>0.0</td>\n",
       "      <td>0.0</td>\n",
       "      <td>0</td>\n",
       "      <td>0</td>\n",
       "      <td>0.0</td>\n",
       "      <td>0.0</td>\n",
       "      <td>0</td>\n",
       "      <td>0</td>\n",
       "      <td>BENIGN</td>\n",
       "    </tr>\n",
       "  </tbody>\n",
       "</table>\n",
       "<p>2830743 rows × 79 columns</p>\n",
       "</div>"
      ],
      "text/plain": [
       "          Destination Port   Flow Duration   Total Fwd Packets  \\\n",
       "0                    49188               4                   2   \n",
       "1                    49188               1                   2   \n",
       "2                    49188               1                   2   \n",
       "3                    49188               1                   2   \n",
       "4                    49486               3                   2   \n",
       "...                    ...             ...                 ...   \n",
       "2830738              61374              61                   1   \n",
       "2830739              61378              72                   1   \n",
       "2830740              61375              75                   1   \n",
       "2830741              61323              48                   2   \n",
       "2830742              61326              68                   1   \n",
       "\n",
       "          Total Backward Packets  Total Length of Fwd Packets  \\\n",
       "0                              0                           12   \n",
       "1                              0                           12   \n",
       "2                              0                           12   \n",
       "3                              0                           12   \n",
       "4                              0                           12   \n",
       "...                          ...                          ...   \n",
       "2830738                        1                            6   \n",
       "2830739                        1                            6   \n",
       "2830740                        1                            6   \n",
       "2830741                        0                           12   \n",
       "2830742                        1                            6   \n",
       "\n",
       "          Total Length of Bwd Packets   Fwd Packet Length Max  \\\n",
       "0                                   0                       6   \n",
       "1                                   0                       6   \n",
       "2                                   0                       6   \n",
       "3                                   0                       6   \n",
       "4                                   0                       6   \n",
       "...                               ...                     ...   \n",
       "2830738                             6                       6   \n",
       "2830739                             6                       6   \n",
       "2830740                             6                       6   \n",
       "2830741                             0                       6   \n",
       "2830742                             6                       6   \n",
       "\n",
       "          Fwd Packet Length Min   Fwd Packet Length Mean  \\\n",
       "0                             6                      6.0   \n",
       "1                             6                      6.0   \n",
       "2                             6                      6.0   \n",
       "3                             6                      6.0   \n",
       "4                             6                      6.0   \n",
       "...                         ...                      ...   \n",
       "2830738                       6                      6.0   \n",
       "2830739                       6                      6.0   \n",
       "2830740                       6                      6.0   \n",
       "2830741                       6                      6.0   \n",
       "2830742                       6                      6.0   \n",
       "\n",
       "          Fwd Packet Length Std  ...   min_seg_size_forward  Active Mean  \\\n",
       "0                           0.0  ...                     20          0.0   \n",
       "1                           0.0  ...                     20          0.0   \n",
       "2                           0.0  ...                     20          0.0   \n",
       "3                           0.0  ...                     20          0.0   \n",
       "4                           0.0  ...                     20          0.0   \n",
       "...                         ...  ...                    ...          ...   \n",
       "2830738                     0.0  ...                     20          0.0   \n",
       "2830739                     0.0  ...                     20          0.0   \n",
       "2830740                     0.0  ...                     20          0.0   \n",
       "2830741                     0.0  ...                     20          0.0   \n",
       "2830742                     0.0  ...                     20          0.0   \n",
       "\n",
       "          Active Std   Active Max   Active Min  Idle Mean   Idle Std  \\\n",
       "0                0.0            0            0        0.0        0.0   \n",
       "1                0.0            0            0        0.0        0.0   \n",
       "2                0.0            0            0        0.0        0.0   \n",
       "3                0.0            0            0        0.0        0.0   \n",
       "4                0.0            0            0        0.0        0.0   \n",
       "...              ...          ...          ...        ...        ...   \n",
       "2830738          0.0            0            0        0.0        0.0   \n",
       "2830739          0.0            0            0        0.0        0.0   \n",
       "2830740          0.0            0            0        0.0        0.0   \n",
       "2830741          0.0            0            0        0.0        0.0   \n",
       "2830742          0.0            0            0        0.0        0.0   \n",
       "\n",
       "          Idle Max   Idle Min   Label  \n",
       "0                0          0  BENIGN  \n",
       "1                0          0  BENIGN  \n",
       "2                0          0  BENIGN  \n",
       "3                0          0  BENIGN  \n",
       "4                0          0  BENIGN  \n",
       "...            ...        ...     ...  \n",
       "2830738          0          0  BENIGN  \n",
       "2830739          0          0  BENIGN  \n",
       "2830740          0          0  BENIGN  \n",
       "2830741          0          0  BENIGN  \n",
       "2830742          0          0  BENIGN  \n",
       "\n",
       "[2830743 rows x 79 columns]"
      ]
     },
     "execution_count": 5,
     "metadata": {},
     "output_type": "execute_result"
    }
   ],
   "source": [
    "data"
   ]
  },
  {
   "cell_type": "code",
   "execution_count": 6,
   "id": "283c7e69",
   "metadata": {},
   "outputs": [],
   "source": [
    "# too few samples in some subclasses of Web Attack, and they are combined into one class.\n",
    "#Tuesday Brute Force\n",
    "data[' Label'].replace(\"FTP-Patator\",\"BruteForce\",inplace=True,regex=True)\n",
    "data[' Label'].replace(\"SSH-Patator\",\"BruteForce\",inplace=True,regex=True)\n",
    "#Thursday Web Attack\n",
    "data[' Label'].replace(\"Web Attack .*\",\"Web Attack\",inplace=True,regex=True)\n",
    "#DoS \n",
    "data[' Label'].replace(\"DoS .*\",\"DoS\",inplace=True,regex=True)\n",
    "data[' Label'].replace(\"DDoS\",\"DoS\",inplace=True,regex=True)"
   ]
  },
  {
   "cell_type": "code",
   "execution_count": 7,
   "id": "3e97dc8c",
   "metadata": {},
   "outputs": [
    {
     "data": {
      "text/plain": [
       "BENIGN          2273097\n",
       "DoS              380688\n",
       "PortScan         158930\n",
       "BruteForce        13835\n",
       "Web Attack         2180\n",
       "Bot                1966\n",
       "Infiltration         36\n",
       "Heartbleed           11\n",
       "Name:  Label, dtype: int64"
      ]
     },
     "execution_count": 7,
     "metadata": {},
     "output_type": "execute_result"
    }
   ],
   "source": [
    "target_count_new=data[' Label'].value_counts(0)\n",
    "target_count_new"
   ]
  },
  {
   "cell_type": "code",
   "execution_count": 8,
   "id": "146ba814",
   "metadata": {},
   "outputs": [],
   "source": [
    "labels_new,values_new=zip(*sorted(target_count_new.items()))"
   ]
  },
  {
   "cell_type": "code",
   "execution_count": 9,
   "id": "2b02ba74",
   "metadata": {},
   "outputs": [
    {
     "data": {
      "image/png": "[encoded data removed]",
      "text/plain": [
       "<Figure size 4500x1800 with 1 Axes>"
      ]
     },
     "metadata": {},
     "output_type": "display_data"
    }
   ],
   "source": [
    "plt.figure(dpi=300,figsize=(15,6))\n",
    "plt.bar(labels_new,values_new)\n",
    "for x_new,y_new in zip(labels_new,values_new):\n",
    "    plt.text(x_new,y_new,y_new,ha=\"center\",va=\"bottom\")\n",
    "plt.xticks(fontsize=12,rotation=0)\n",
    "plt.xlabel(\"8 Categories\",fontsize=16)\n",
    "plt.ylabel(\"Count\",fontsize=16)\n",
    "plt.show()"
   ]
  },
  {
   "cell_type": "code",
   "execution_count": 10,
   "id": "f6b9c003",
   "metadata": {},
   "outputs": [],
   "source": [
    "#3. Preprocessing\n",
    "#3.1 remove useless data\n",
    "#remove duplicate row\n",
    "data=data.drop_duplicates()\n",
    "#remove rows with null value and infinite value\n",
    "data=data.replace(np.inf,np.nan)\n",
    "data=data.dropna()"
   ]
  },
  {
   "cell_type": "code",
   "execution_count": 11,
   "id": "2d2ab7e8",
   "metadata": {},
   "outputs": [
    {
     "data": {
      "text/plain": [
       "BENIGN          2072476\n",
       "DoS              321759\n",
       "PortScan          90694\n",
       "BruteForce         9150\n",
       "Web Attack         2143\n",
       "Bot                1948\n",
       "Infiltration         36\n",
       "Heartbleed           11\n",
       "Name:  Label, dtype: int64"
      ]
     },
     "execution_count": 11,
     "metadata": {},
     "output_type": "execute_result"
    }
   ],
   "source": [
    "data[' Label'].value_counts()"
   ]
  },
  {
   "cell_type": "code",
   "execution_count": 12,
   "id": "cea1d07e",
   "metadata": {},
   "outputs": [
    {
     "name": "stdout",
     "output_type": "stream",
     "text": [
      "Counter({'BENIGN': 2072476, 'DoS': 321759, 'PortScan': 90694, 'BruteForce': 9150, 'Web Attack': 2143, 'Bot': 1948, 'Infiltration': 36, 'Heartbleed': 11})\n"
     ]
    }
   ],
   "source": [
    "X=data.iloc[:,:-1]\n",
    "y=data.iloc[:,-1]\n",
    "print(Counter(y))"
   ]
  },
  {
   "cell_type": "code",
   "execution_count": 13,
   "id": "f0adfd67",
   "metadata": {},
   "outputs": [
    {
     "name": "stdout",
     "output_type": "stream",
     "text": [
      "Counter({0: 2072476, 3: 321759, 6: 90694, 2: 9150, 7: 2143, 1: 1948, 5: 36, 4: 11})\n"
     ]
    }
   ],
   "source": [
    "#Label Encoding\n",
    "le=LabelEncoder()\n",
    "le=le.fit(y)\n",
    "le.classes_\n",
    "y=le.transform(y)\n",
    "print(Counter(y))"
   ]
  },
  {
   "cell_type": "code",
   "execution_count": 14,
   "id": "c273ad02",
   "metadata": {},
   "outputs": [
    {
     "data": {
      "text/plain": [
       "3692"
      ]
     },
     "execution_count": 14,
     "metadata": {},
     "output_type": "execute_result"
    }
   ],
   "source": [
    "#Ram Clean\n",
    "del data\n",
    "gc.collect()"
   ]
  },
  {
   "cell_type": "code",
   "execution_count": 15,
   "id": "7c2b259b",
   "metadata": {},
   "outputs": [],
   "source": [
    "#3.2 Splitting data\n",
    "X_train,X_test,y_train,y_test=model_selection.train_test_split(X,y,test_size=0.33,random_state=123456)"
   ]
  },
  {
   "cell_type": "code",
   "execution_count": 16,
   "id": "8b0cb88b",
   "metadata": {},
   "outputs": [
    {
     "name": "stdout",
     "output_type": "stream",
     "text": [
      "Counter({0: 1388615, 3: 215467, 6: 60860, 2: 6100, 7: 1440, 1: 1293, 5: 20, 4: 10})\n"
     ]
    }
   ],
   "source": [
    "print(Counter(y_train))"
   ]
  },
  {
   "cell_type": "code",
   "execution_count": 17,
   "id": "91fc39e3",
   "metadata": {},
   "outputs": [],
   "source": [
    "#3.3 SMOTE\n",
    "time0=time()\n",
    "bsm=BorderlineSMOTE(k_neighbors=9,random_state=42,kind='borderline-2',n_jobs=-1)\n",
    "X_train,y_train=bsm.fit_resample(X_train,y_train)"
   ]
  },
  {
   "cell_type": "code",
   "execution_count": 18,
   "id": "acde0f53",
   "metadata": {},
   "outputs": [
    {
     "name": "stdout",
     "output_type": "stream",
     "text": [
      "Time of BorderlineSMOTE : 521.814 s\n"
     ]
    }
   ],
   "source": [
    "print(\"Time of BorderlineSMOTE : {:.3f} s\".format(time()-time0))"
   ]
  },
  {
   "cell_type": "code",
   "execution_count": 19,
   "id": "6e275b86",
   "metadata": {},
   "outputs": [
    {
     "name": "stdout",
     "output_type": "stream",
     "text": [
      "Counter({0: 1388615, 3: 1388615, 1: 1388615, 4: 1388615, 6: 1388614, 2: 1388614, 7: 1388614, 5: 1388614})\n"
     ]
    }
   ],
   "source": [
    "print(Counter(y_train))"
   ]
  },
  {
   "cell_type": "code",
   "execution_count": 20,
   "id": "c4cf8564",
   "metadata": {},
   "outputs": [],
   "source": [
    "#4. Training\n",
    "clf=LGBMClassifier(random_state=12345)"
   ]
  },
  {
   "cell_type": "code",
   "execution_count": 21,
   "id": "1b0cecbe",
   "metadata": {},
   "outputs": [
    {
     "name": "stdout",
     "output_type": "stream",
     "text": [
      "Time of Training : 230.992 s\n"
     ]
    }
   ],
   "source": [
    "time1=time()\n",
    "clf.fit(X_train,y_train)\n",
    "print(\"Time of Training : {:.3f} s\".format(time()-time1))"
   ]
  },
  {
   "cell_type": "code",
   "execution_count": 22,
   "id": "4a7b5cf8",
   "metadata": {},
   "outputs": [],
   "source": [
    "y_pred_train=clf.predict(X_train)\n",
    "y_pred_test=clf.predict(X_test)"
   ]
  },
  {
   "cell_type": "code",
   "execution_count": 23,
   "id": "186abec3",
   "metadata": {},
   "outputs": [],
   "source": [
    "y_train_en=OneHotEncoder().fit_transform(pd.DataFrame(y_train)).toarray()"
   ]
  },
  {
   "cell_type": "code",
   "execution_count": 24,
   "id": "9261610b",
   "metadata": {},
   "outputs": [],
   "source": [
    "y_pred_train_en=OneHotEncoder().fit_transform(pd.DataFrame(y_pred_train)).toarray()"
   ]
  },
  {
   "cell_type": "code",
   "execution_count": 25,
   "id": "b6d70a0b",
   "metadata": {},
   "outputs": [
    {
     "data": {
      "text/plain": [
       "(array([[1., 0., 0., ..., 0., 0., 0.],\n",
       "        [1., 0., 0., ..., 0., 0., 0.],\n",
       "        [1., 0., 0., ..., 0., 0., 0.],\n",
       "        ...,\n",
       "        [0., 0., 0., ..., 0., 0., 1.],\n",
       "        [0., 0., 0., ..., 0., 0., 1.],\n",
       "        [0., 0., 0., ..., 0., 0., 1.]]),\n",
       " array([[1., 0., 0., ..., 0., 0., 0.],\n",
       "        [1., 0., 0., ..., 0., 0., 0.],\n",
       "        [1., 0., 0., ..., 0., 0., 0.],\n",
       "        ...,\n",
       "        [0., 0., 0., ..., 0., 0., 1.],\n",
       "        [0., 0., 0., ..., 0., 0., 1.],\n",
       "        [0., 0., 0., ..., 0., 0., 1.]]))"
      ]
     },
     "execution_count": 25,
     "metadata": {},
     "output_type": "execute_result"
    }
   ],
   "source": [
    "y_train_en,y_pred_train_en"
   ]
  },
  {
   "cell_type": "code",
   "execution_count": 26,
   "id": "a3de68f7",
   "metadata": {},
   "outputs": [],
   "source": [
    "y_test_en=OneHotEncoder().fit_transform(pd.DataFrame(y_test)).toarray()"
   ]
  },
  {
   "cell_type": "code",
   "execution_count": 27,
   "id": "3067401c",
   "metadata": {},
   "outputs": [],
   "source": [
    "y_pred_test_en=OneHotEncoder().fit_transform(pd.DataFrame(y_pred_test)).toarray()"
   ]
  },
  {
   "cell_type": "code",
   "execution_count": 28,
   "id": "776530c1",
   "metadata": {},
   "outputs": [
    {
     "data": {
      "text/plain": [
       "(array([[1., 0., 0., ..., 0., 0., 0.],\n",
       "        [1., 0., 0., ..., 0., 0., 0.],\n",
       "        [1., 0., 0., ..., 0., 0., 0.],\n",
       "        ...,\n",
       "        [1., 0., 0., ..., 0., 0., 0.],\n",
       "        [0., 0., 0., ..., 0., 0., 0.],\n",
       "        [1., 0., 0., ..., 0., 0., 0.]]),\n",
       " array([[1., 0., 0., ..., 0., 0., 0.],\n",
       "        [1., 0., 0., ..., 0., 0., 0.],\n",
       "        [1., 0., 0., ..., 0., 0., 0.],\n",
       "        ...,\n",
       "        [1., 0., 0., ..., 0., 0., 0.],\n",
       "        [0., 0., 0., ..., 0., 0., 0.],\n",
       "        [1., 0., 0., ..., 0., 0., 0.]]))"
      ]
     },
     "execution_count": 28,
     "metadata": {},
     "output_type": "execute_result"
    }
   ],
   "source": [
    "y_test_en,y_pred_test_en"
   ]
  },
  {
   "cell_type": "code",
   "execution_count": 29,
   "id": "aea98c55",
   "metadata": {},
   "outputs": [
    {
     "name": "stdout",
     "output_type": "stream",
     "text": [
      "==Train==\n",
      "[[1373242   11088     169    2155       9     829     813     310]\n",
      " [   1241 1384834      68     256       0    1721      36     459]\n",
      " [    671    4063 1383008     136       0     354      14     368]\n",
      " [   1065    7311    1271 1376468       1     263    1136    1100]\n",
      " [      0       0       0       0 1388615       0       0       0]\n",
      " [      0       0       0    1028       0 1386933     653       0]\n",
      " [   1186    8138     615     441       0      21 1377326     887]\n",
      " [     15    3827       1      10       0     526      13 1384222]]\n",
      "              precision    recall  f1-score   support\n",
      "\n",
      "           0       1.00      0.99      0.99   1388615\n",
      "           1       0.98      1.00      0.99   1388615\n",
      "           2       1.00      1.00      1.00   1388614\n",
      "           3       1.00      0.99      0.99   1388615\n",
      "           4       1.00      1.00      1.00   1388615\n",
      "           5       1.00      1.00      1.00   1388614\n",
      "           6       1.00      0.99      0.99   1388614\n",
      "           7       1.00      1.00      1.00   1388614\n",
      "\n",
      "    accuracy                           1.00  11108916\n",
      "   macro avg       1.00      1.00      1.00  11108916\n",
      "weighted avg       1.00      1.00      1.00  11108916\n",
      "\n",
      "Accuracy Score =  0.9951149151727159\n",
      "Precison       =  0.9951748966933334\n",
      "Recall         =  0.9951149151727159\n",
      "F1_score       =  0.9951256189106054\n",
      "Auc score      =  0.9972085229262851\n"
     ]
    }
   ],
   "source": [
    "#5. Result \n",
    "#5.1 Original Data\n",
    "print(\"==Train==\")\n",
    "result=metrics.confusion_matrix(y_train,y_pred_train)\n",
    "report=metrics.classification_report(y_train,y_pred_train,zero_division=1)\n",
    "\n",
    "print(result)\n",
    "print(report)\n",
    "\n",
    "print(\"Accuracy Score = \",metrics.balanced_accuracy_score(y_train,y_pred_train))\n",
    "print(\"Precison       = \",metrics.precision_score(y_train,y_pred_train,average='macro'))\n",
    "print(\"Recall         = \",metrics.recall_score(y_train,y_pred_train,average='macro'))\n",
    "print(\"F1_score       = \",metrics.f1_score(y_train,y_pred_train,average='macro'))\n",
    "print(\"Auc score      = \",metrics.roc_auc_score(y_train_en,y_pred_train_en,average='macro'))"
   ]
  },
  {
   "cell_type": "code",
   "execution_count": 30,
   "id": "f7a293f7",
   "metadata": {},
   "outputs": [
    {
     "name": "stdout",
     "output_type": "stream",
     "text": [
      "Accuracy Score     : 0.9951149149025882\n",
      "Weighted Precision : 0.9951748957109394\n",
      "Weighted Recall    : 0.9951149149025882\n",
      "Weighted F1-score  : 0.9951256182784769\n"
     ]
    }
   ],
   "source": [
    "precision,recall,fscore,none= metrics.precision_recall_fscore_support(y_train, y_pred_train, average='weighted') \n",
    "print(\"Accuracy Score     : \"+(str(metrics.accuracy_score(y_train,y_pred_train))))\n",
    "print('Weighted Precision : '+(str(precision)))\n",
    "print('Weighted Recall    : '+(str(recall)))\n",
    "print('Weighted F1-score  : '+(str(fscore)))"
   ]
  },
  {
   "cell_type": "code",
   "execution_count": 31,
   "id": "fe8997da",
   "metadata": {},
   "outputs": [
    {
     "name": "stdout",
     "output_type": "stream",
     "text": [
      "==Test==\n",
      "[[676219   5450     94   1100      8    376    463    151]\n",
      " [    21    633      1      0      0      0      0      0]\n",
      " [     0      0   3049      0      0      0      0      1]\n",
      " [    12    112      0 106008      0     45     97     18]\n",
      " [     0      0      0      0      1      0      0      0]\n",
      " [     8      0      0      0      0      8      0      0]\n",
      " [     8      0      0      6      0      0  29817      3]\n",
      " [    10      0      0      7      0      0      5    681]]\n",
      "              precision    recall  f1-score   support\n",
      "\n",
      "           0       1.00      0.99      0.99    683861\n",
      "           1       0.10      0.97      0.18       655\n",
      "           2       0.97      1.00      0.98      3050\n",
      "           3       0.99      1.00      0.99    106292\n",
      "           4       0.11      1.00      0.20         1\n",
      "           5       0.02      0.50      0.04        16\n",
      "           6       0.98      1.00      0.99     29834\n",
      "           7       0.80      0.97      0.87       703\n",
      "\n",
      "    accuracy                           0.99    824412\n",
      "   macro avg       0.62      0.93      0.66    824412\n",
      "weighted avg       1.00      0.99      0.99    824412\n",
      "\n",
      "Accuracy Score =  0.9275466752945941\n",
      "Precison       =  0.6212590012348082\n",
      "Recall         =  0.9275466752945941\n",
      "F1_score       =  0.657269967151192\n",
      "Auc score      =  0.9631309135767429\n"
     ]
    }
   ],
   "source": [
    "print(\"==Test==\")\n",
    "result=metrics.confusion_matrix(y_test,y_pred_test)\n",
    "report=metrics.classification_report(y_test,y_pred_test,zero_division=1)\n",
    "\n",
    "print(result)\n",
    "print(report)\n",
    "\n",
    "print(\"Accuracy Score = \",metrics.balanced_accuracy_score(y_test,y_pred_test))\n",
    "print(\"Precison       = \",metrics.precision_score(y_test,y_pred_test,average='macro'))\n",
    "print(\"Recall         = \",metrics.recall_score(y_test,y_pred_test,average='macro'))\n",
    "print(\"F1_score       = \",metrics.f1_score(y_test,y_pred_test,average='macro'))\n",
    "print(\"Auc score      = \",metrics.roc_auc_score(y_test_en,y_pred_test_en,average='macro'))"
   ]
  },
  {
   "cell_type": "code",
   "execution_count": 32,
   "id": "4a358f63",
   "metadata": {},
   "outputs": [
    {
     "name": "stdout",
     "output_type": "stream",
     "text": [
      "Accuracy Score     : 0.9903009660218435\n",
      "Weighted Precision : 0.9968970719952767\n",
      "Weighted Recall    : 0.9903009660218435\n",
      "Weighted F1-score  : 0.9932781294933806\n"
     ]
    }
   ],
   "source": [
    "tprecision,trecall,tfscore,none= metrics.precision_recall_fscore_support(y_test, y_pred_test, average='weighted')\n",
    "print(\"Accuracy Score     : \"+(str(metrics.accuracy_score(y_test,y_pred_test))))\n",
    "print('Weighted Precision : '+(str(tprecision)))\n",
    "print('Weighted Recall    : '+(str(trecall)))\n",
    "print('Weighted F1-score  : '+(str(tfscore)))"
   ]
  },
  {
   "cell_type": "markdown",
   "id": "38c020e3",
   "metadata": {},
   "source": [
    "### Random Forest With Original Data   \n",
    "Accuracy Score =  0.9103102912538195   \n",
    "Precison       =  0.9684073872067926   \n",
    "Recall         =  0.9103102912538195   \n",
    "F1_score       =  0.9340837954082126   \n",
    "Auc score      =  0.9548073632993797   "
   ]
  },
  {
   "cell_type": "markdown",
   "id": "008f8fd3",
   "metadata": {},
   "source": [
    "### Weight Metrics   \n",
    "Accuracy Score     : 0.9985189444112895   \n",
    "Weighted Precision : 0.99850615428196   \n",
    "Weighted Recall    : 0.9985189444112895   \n",
    "Weighted F1-score  : 0.9985091535241425   "
   ]
  },
  {
   "cell_type": "markdown",
   "id": "976004d7",
   "metadata": {},
   "source": [
    "### GBDT With OriginalData  \n",
    "Accuracy Score =  0.6770551787931152  \n",
    "Precison       =  0.8427868641310006  \n",
    "Recall         =  0.6770551787931152  \n",
    "F1_score       =  0.6995836682162205  \n",
    "Auc score      =  0.8378819996226432"
   ]
  },
  {
   "cell_type": "markdown",
   "id": "783e1fdd",
   "metadata": {},
   "source": [
    "### Weight Metrics  \n",
    "Accuracy Score     : 0.9970391018083191  \n",
    "Weighted Precision : 0.9969335209331118  \n",
    "Weighted Recall    : 0.9970391018083191  \n",
    "Weighted F1-score  : 0.996573311771669 "
   ]
  },
  {
   "cell_type": "markdown",
   "id": "1214be77",
   "metadata": {},
   "source": [
    "### Xgboost With Original Data\n",
    "Accuracy Score =  0.9591534942030481  \n",
    "Precison       =  0.9794450712879808  \n",
    "Recall         =  0.9591534942030481  \n",
    "F1_score       =  0.9686910073786689  \n",
    "Auc score      =  0.9794569986178571  "
   ]
  },
  {
   "cell_type": "markdown",
   "id": "bc142660",
   "metadata": {},
   "source": [
    "### Weight Metrics   \n",
    "Accuracy Score     : 0.9991120944382178   \n",
    "Weighted Precision : 0.9991107684698392  \n",
    "Weighted Recall    : 0.9991120944382178   \n",
    "Weighted F1-score  : 0.9991095584585403   "
   ]
  },
  {
   "cell_type": "markdown",
   "id": "8a32f957",
   "metadata": {},
   "source": [
    "### Xgboost With SMOTE   \n",
    "Accuracy Score =  0.9897673562574405   \n",
    "Precison       =  0.927767140921222  \n",
    "Recall         =  0.9897673562574405  \n",
    "F1_score       =  0.9521161113488612  \n",
    "Auc score      =  0.99479233768076  "
   ]
  },
  {
   "cell_type": "markdown",
   "id": "f052385c",
   "metadata": {},
   "source": [
    "### Weight Metrics With SMOTE\n",
    "Accuracy Score     : 0.9987481987161759  \n",
    "Weighted Precision : 0.9989861862588261  \n",
    "Weighted Recall    : 0.9987481987161759  \n",
    "Weighted F1-score  : 0.9988239038026718  "
   ]
  }
 ],
 "metadata": {
  "kernelspec": {
   "display_name": "Python 3 (ipykernel)",
   "language": "python",
   "name": "python3"
  },
  "language_info": {
   "codemirror_mode": {
    "name": "ipython",
    "version": 3
   },
   "file_extension": ".py",
   "mimetype": "text/x-python",
   "name": "python",
   "nbconvert_exporter": "python",
   "pygments_lexer": "ipython3",
   "version": "3.9.12"
  }
 },
 "nbformat": 4,
 "nbformat_minor": 5
}
