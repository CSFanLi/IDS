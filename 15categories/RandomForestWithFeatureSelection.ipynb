{
 "cells": [
  {
   "cell_type": "code",
   "execution_count": 1,
   "id": "7c78436a",
   "metadata": {},
   "outputs": [],
   "source": [
    "#Author     : Fan Li\n",
    "#Update Date: 2022.09.20\n",
    "#Version    : 2.0\n",
    "\n",
    "#Intrusion Detection System Using Machine Learning (Random Forest)\n",
    "\n",
    "#Original Data (cic ids 2017)\n",
    "\n",
    "#hardware\n",
    "#64vCPUs | 128GiB | c7.16xlarge.2\n",
    "\n",
    "#System\n",
    "#Ubuntu 20.04 server 64bit"
   ]
  },
  {
   "cell_type": "code",
   "execution_count": 2,
   "id": "6e3df41e",
   "metadata": {},
   "outputs": [],
   "source": [
    "#1. Loading Module\n",
    "#basic\n",
    "import os\n",
    "os.environ['OPENBLAS_NUM_THREADS'] = '1'\n",
    "import gc    #memory manage\n",
    "\n",
    "import math\n",
    "import numpy as np\n",
    "import pandas as pd\n",
    "\n",
    "#draw figure\n",
    "import seaborn as sns\n",
    "import matplotlib.pyplot as plt\n",
    "\n",
    "#preprocessing\n",
    "from sklearn.preprocessing import LabelEncoder\n",
    "from collections import Counter\n",
    "\n",
    "#Feature Selection\n",
    "\n",
    "from sklearn.model_selection import cross_val_score\n",
    "from sklearn.feature_selection import VarianceThreshold\n",
    "from sklearn.feature_selection import SelectKBest\n",
    "from sklearn.feature_selection import chi2\n",
    "\n",
    "from sklearn.preprocessing import MinMaxScaler\n",
    "from sklearn.preprocessing import StandardScaler\n",
    "from sklearn.feature_selection import SelectFromModel\n",
    "#model\n",
    "from sklearn.ensemble import AdaBoostClassifier\n",
    "from sklearn.ensemble import GradientBoostingClassifier\n",
    "from sklearn.ensemble import RandomForestClassifier\n",
    "\n",
    "from sklearn.neighbors import KNeighborsClassifier\n",
    "from xgboost import XGBClassifier\n",
    "\n",
    "#metrics\n",
    "\n",
    "from sklearn import model_selection,feature_selection,utils,ensemble,metrics\n",
    "\n",
    "#time\n",
    "from time import time\n",
    "import datetime"
   ]
  },
  {
   "cell_type": "code",
   "execution_count": 30,
   "id": "c58e2b8b",
   "metadata": {},
   "outputs": [],
   "source": [
    "#2. Reading Dataset\n",
    "base_path=\"../../data/\"\n",
    "# Monday benign\n",
    "f1_path=base_path+\"Monday-WorkingHours.pcap_ISCX.csv\"\n",
    "f1=pd.read_csv(f1_path)\n",
    "#Tuesday benign\n",
    "f2_path=base_path+\"Tuesday-WorkingHours.pcap_ISCX.csv\"\n",
    "f2=pd.read_csv(f2_path)\n",
    "#Wed benign\n",
    "f3_path=base_path+\"Wednesday-workingHours.pcap_ISCX.csv\"\n",
    "f3=pd.read_csv(f3_path)\n",
    "#Thur WebAttack\n",
    "f4_path1=base_path+\"Thursday-WorkingHours-Morning-WebAttacks.pcap_ISCX.csv\"\n",
    "f41=pd.read_csv(f4_path1)\n",
    "f4_path2=base_path+\"Thursday-WorkingHours-Afternoon-Infilteration.pcap_ISCX.csv\"\n",
    "f42=pd.read_csv(f4_path2)\n",
    "#Fri Benign DDos PortScan\n",
    "f5_path1=base_path+\"Friday-WorkingHours-Morning.pcap_ISCX.csv\"\n",
    "f51=pd.read_csv(f5_path1)\n",
    "\n",
    "f5_path2=base_path+\"Friday-WorkingHours-Afternoon-PortScan.pcap_ISCX.csv\"\n",
    "f52=pd.read_csv(f5_path2)\n",
    "\n",
    "f5_path3=base_path+\"Friday-WorkingHours-Afternoon-DDos.pcap_ISCX.csv\"\n",
    "f53=pd.read_csv(f5_path3)"
   ]
  },
  {
   "cell_type": "code",
   "execution_count": 31,
   "id": "383f6514",
   "metadata": {},
   "outputs": [
    {
     "data": {
      "text/plain": [
       "(2830743, 79)"
      ]
     },
     "execution_count": 31,
     "metadata": {},
     "output_type": "execute_result"
    }
   ],
   "source": [
    "data=pd.concat((f1,f2,f3,f41,f42,f51,f52,f53))\n",
    "data.reset_index(inplace=True,drop=True) # duplicate index exist, reset index\n",
    "data.shape"
   ]
  },
  {
   "cell_type": "code",
   "execution_count": 32,
   "id": "64632bd6",
   "metadata": {},
   "outputs": [
    {
     "data": {
      "text/html": [
       "<div>\n",
       "<style scoped>\n",
       "    .dataframe tbody tr th:only-of-type {\n",
       "        vertical-align: middle;\n",
       "    }\n",
       "\n",
       "    .dataframe tbody tr th {\n",
       "        vertical-align: top;\n",
       "    }\n",
       "\n",
       "    .dataframe thead th {\n",
       "        text-align: right;\n",
       "    }\n",
       "</style>\n",
       "<table border=\"1\" class=\"dataframe\">\n",
       "  <thead>\n",
       "    <tr style=\"text-align: right;\">\n",
       "      <th></th>\n",
       "      <th>Destination Port</th>\n",
       "      <th>Flow Duration</th>\n",
       "      <th>Total Fwd Packets</th>\n",
       "      <th>Total Backward Packets</th>\n",
       "      <th>Total Length of Fwd Packets</th>\n",
       "      <th>Total Length of Bwd Packets</th>\n",
       "      <th>Fwd Packet Length Max</th>\n",
       "      <th>Fwd Packet Length Min</th>\n",
       "      <th>Fwd Packet Length Mean</th>\n",
       "      <th>Fwd Packet Length Std</th>\n",
       "      <th>...</th>\n",
       "      <th>min_seg_size_forward</th>\n",
       "      <th>Active Mean</th>\n",
       "      <th>Active Std</th>\n",
       "      <th>Active Max</th>\n",
       "      <th>Active Min</th>\n",
       "      <th>Idle Mean</th>\n",
       "      <th>Idle Std</th>\n",
       "      <th>Idle Max</th>\n",
       "      <th>Idle Min</th>\n",
       "      <th>Label</th>\n",
       "    </tr>\n",
       "  </thead>\n",
       "  <tbody>\n",
       "    <tr>\n",
       "      <th>0</th>\n",
       "      <td>49188</td>\n",
       "      <td>4</td>\n",
       "      <td>2</td>\n",
       "      <td>0</td>\n",
       "      <td>12</td>\n",
       "      <td>0</td>\n",
       "      <td>6</td>\n",
       "      <td>6</td>\n",
       "      <td>6.0</td>\n",
       "      <td>0.0</td>\n",
       "      <td>...</td>\n",
       "      <td>20</td>\n",
       "      <td>0.0</td>\n",
       "      <td>0.0</td>\n",
       "      <td>0</td>\n",
       "      <td>0</td>\n",
       "      <td>0.0</td>\n",
       "      <td>0.0</td>\n",
       "      <td>0</td>\n",
       "      <td>0</td>\n",
       "      <td>BENIGN</td>\n",
       "    </tr>\n",
       "    <tr>\n",
       "      <th>1</th>\n",
       "      <td>49188</td>\n",
       "      <td>1</td>\n",
       "      <td>2</td>\n",
       "      <td>0</td>\n",
       "      <td>12</td>\n",
       "      <td>0</td>\n",
       "      <td>6</td>\n",
       "      <td>6</td>\n",
       "      <td>6.0</td>\n",
       "      <td>0.0</td>\n",
       "      <td>...</td>\n",
       "      <td>20</td>\n",
       "      <td>0.0</td>\n",
       "      <td>0.0</td>\n",
       "      <td>0</td>\n",
       "      <td>0</td>\n",
       "      <td>0.0</td>\n",
       "      <td>0.0</td>\n",
       "      <td>0</td>\n",
       "      <td>0</td>\n",
       "      <td>BENIGN</td>\n",
       "    </tr>\n",
       "    <tr>\n",
       "      <th>2</th>\n",
       "      <td>49188</td>\n",
       "      <td>1</td>\n",
       "      <td>2</td>\n",
       "      <td>0</td>\n",
       "      <td>12</td>\n",
       "      <td>0</td>\n",
       "      <td>6</td>\n",
       "      <td>6</td>\n",
       "      <td>6.0</td>\n",
       "      <td>0.0</td>\n",
       "      <td>...</td>\n",
       "      <td>20</td>\n",
       "      <td>0.0</td>\n",
       "      <td>0.0</td>\n",
       "      <td>0</td>\n",
       "      <td>0</td>\n",
       "      <td>0.0</td>\n",
       "      <td>0.0</td>\n",
       "      <td>0</td>\n",
       "      <td>0</td>\n",
       "      <td>BENIGN</td>\n",
       "    </tr>\n",
       "    <tr>\n",
       "      <th>3</th>\n",
       "      <td>49188</td>\n",
       "      <td>1</td>\n",
       "      <td>2</td>\n",
       "      <td>0</td>\n",
       "      <td>12</td>\n",
       "      <td>0</td>\n",
       "      <td>6</td>\n",
       "      <td>6</td>\n",
       "      <td>6.0</td>\n",
       "      <td>0.0</td>\n",
       "      <td>...</td>\n",
       "      <td>20</td>\n",
       "      <td>0.0</td>\n",
       "      <td>0.0</td>\n",
       "      <td>0</td>\n",
       "      <td>0</td>\n",
       "      <td>0.0</td>\n",
       "      <td>0.0</td>\n",
       "      <td>0</td>\n",
       "      <td>0</td>\n",
       "      <td>BENIGN</td>\n",
       "    </tr>\n",
       "    <tr>\n",
       "      <th>4</th>\n",
       "      <td>49486</td>\n",
       "      <td>3</td>\n",
       "      <td>2</td>\n",
       "      <td>0</td>\n",
       "      <td>12</td>\n",
       "      <td>0</td>\n",
       "      <td>6</td>\n",
       "      <td>6</td>\n",
       "      <td>6.0</td>\n",
       "      <td>0.0</td>\n",
       "      <td>...</td>\n",
       "      <td>20</td>\n",
       "      <td>0.0</td>\n",
       "      <td>0.0</td>\n",
       "      <td>0</td>\n",
       "      <td>0</td>\n",
       "      <td>0.0</td>\n",
       "      <td>0.0</td>\n",
       "      <td>0</td>\n",
       "      <td>0</td>\n",
       "      <td>BENIGN</td>\n",
       "    </tr>\n",
       "    <tr>\n",
       "      <th>...</th>\n",
       "      <td>...</td>\n",
       "      <td>...</td>\n",
       "      <td>...</td>\n",
       "      <td>...</td>\n",
       "      <td>...</td>\n",
       "      <td>...</td>\n",
       "      <td>...</td>\n",
       "      <td>...</td>\n",
       "      <td>...</td>\n",
       "      <td>...</td>\n",
       "      <td>...</td>\n",
       "      <td>...</td>\n",
       "      <td>...</td>\n",
       "      <td>...</td>\n",
       "      <td>...</td>\n",
       "      <td>...</td>\n",
       "      <td>...</td>\n",
       "      <td>...</td>\n",
       "      <td>...</td>\n",
       "      <td>...</td>\n",
       "      <td>...</td>\n",
       "    </tr>\n",
       "    <tr>\n",
       "      <th>2830738</th>\n",
       "      <td>61374</td>\n",
       "      <td>61</td>\n",
       "      <td>1</td>\n",
       "      <td>1</td>\n",
       "      <td>6</td>\n",
       "      <td>6</td>\n",
       "      <td>6</td>\n",
       "      <td>6</td>\n",
       "      <td>6.0</td>\n",
       "      <td>0.0</td>\n",
       "      <td>...</td>\n",
       "      <td>20</td>\n",
       "      <td>0.0</td>\n",
       "      <td>0.0</td>\n",
       "      <td>0</td>\n",
       "      <td>0</td>\n",
       "      <td>0.0</td>\n",
       "      <td>0.0</td>\n",
       "      <td>0</td>\n",
       "      <td>0</td>\n",
       "      <td>BENIGN</td>\n",
       "    </tr>\n",
       "    <tr>\n",
       "      <th>2830739</th>\n",
       "      <td>61378</td>\n",
       "      <td>72</td>\n",
       "      <td>1</td>\n",
       "      <td>1</td>\n",
       "      <td>6</td>\n",
       "      <td>6</td>\n",
       "      <td>6</td>\n",
       "      <td>6</td>\n",
       "      <td>6.0</td>\n",
       "      <td>0.0</td>\n",
       "      <td>...</td>\n",
       "      <td>20</td>\n",
       "      <td>0.0</td>\n",
       "      <td>0.0</td>\n",
       "      <td>0</td>\n",
       "      <td>0</td>\n",
       "      <td>0.0</td>\n",
       "      <td>0.0</td>\n",
       "      <td>0</td>\n",
       "      <td>0</td>\n",
       "      <td>BENIGN</td>\n",
       "    </tr>\n",
       "    <tr>\n",
       "      <th>2830740</th>\n",
       "      <td>61375</td>\n",
       "      <td>75</td>\n",
       "      <td>1</td>\n",
       "      <td>1</td>\n",
       "      <td>6</td>\n",
       "      <td>6</td>\n",
       "      <td>6</td>\n",
       "      <td>6</td>\n",
       "      <td>6.0</td>\n",
       "      <td>0.0</td>\n",
       "      <td>...</td>\n",
       "      <td>20</td>\n",
       "      <td>0.0</td>\n",
       "      <td>0.0</td>\n",
       "      <td>0</td>\n",
       "      <td>0</td>\n",
       "      <td>0.0</td>\n",
       "      <td>0.0</td>\n",
       "      <td>0</td>\n",
       "      <td>0</td>\n",
       "      <td>BENIGN</td>\n",
       "    </tr>\n",
       "    <tr>\n",
       "      <th>2830741</th>\n",
       "      <td>61323</td>\n",
       "      <td>48</td>\n",
       "      <td>2</td>\n",
       "      <td>0</td>\n",
       "      <td>12</td>\n",
       "      <td>0</td>\n",
       "      <td>6</td>\n",
       "      <td>6</td>\n",
       "      <td>6.0</td>\n",
       "      <td>0.0</td>\n",
       "      <td>...</td>\n",
       "      <td>20</td>\n",
       "      <td>0.0</td>\n",
       "      <td>0.0</td>\n",
       "      <td>0</td>\n",
       "      <td>0</td>\n",
       "      <td>0.0</td>\n",
       "      <td>0.0</td>\n",
       "      <td>0</td>\n",
       "      <td>0</td>\n",
       "      <td>BENIGN</td>\n",
       "    </tr>\n",
       "    <tr>\n",
       "      <th>2830742</th>\n",
       "      <td>61326</td>\n",
       "      <td>68</td>\n",
       "      <td>1</td>\n",
       "      <td>1</td>\n",
       "      <td>6</td>\n",
       "      <td>6</td>\n",
       "      <td>6</td>\n",
       "      <td>6</td>\n",
       "      <td>6.0</td>\n",
       "      <td>0.0</td>\n",
       "      <td>...</td>\n",
       "      <td>20</td>\n",
       "      <td>0.0</td>\n",
       "      <td>0.0</td>\n",
       "      <td>0</td>\n",
       "      <td>0</td>\n",
       "      <td>0.0</td>\n",
       "      <td>0.0</td>\n",
       "      <td>0</td>\n",
       "      <td>0</td>\n",
       "      <td>BENIGN</td>\n",
       "    </tr>\n",
       "  </tbody>\n",
       "</table>\n",
       "<p>2830743 rows × 79 columns</p>\n",
       "</div>"
      ],
      "text/plain": [
       "          Destination Port   Flow Duration   Total Fwd Packets  \\\n",
       "0                    49188               4                   2   \n",
       "1                    49188               1                   2   \n",
       "2                    49188               1                   2   \n",
       "3                    49188               1                   2   \n",
       "4                    49486               3                   2   \n",
       "...                    ...             ...                 ...   \n",
       "2830738              61374              61                   1   \n",
       "2830739              61378              72                   1   \n",
       "2830740              61375              75                   1   \n",
       "2830741              61323              48                   2   \n",
       "2830742              61326              68                   1   \n",
       "\n",
       "          Total Backward Packets  Total Length of Fwd Packets  \\\n",
       "0                              0                           12   \n",
       "1                              0                           12   \n",
       "2                              0                           12   \n",
       "3                              0                           12   \n",
       "4                              0                           12   \n",
       "...                          ...                          ...   \n",
       "2830738                        1                            6   \n",
       "2830739                        1                            6   \n",
       "2830740                        1                            6   \n",
       "2830741                        0                           12   \n",
       "2830742                        1                            6   \n",
       "\n",
       "          Total Length of Bwd Packets   Fwd Packet Length Max  \\\n",
       "0                                   0                       6   \n",
       "1                                   0                       6   \n",
       "2                                   0                       6   \n",
       "3                                   0                       6   \n",
       "4                                   0                       6   \n",
       "...                               ...                     ...   \n",
       "2830738                             6                       6   \n",
       "2830739                             6                       6   \n",
       "2830740                             6                       6   \n",
       "2830741                             0                       6   \n",
       "2830742                             6                       6   \n",
       "\n",
       "          Fwd Packet Length Min   Fwd Packet Length Mean  \\\n",
       "0                             6                      6.0   \n",
       "1                             6                      6.0   \n",
       "2                             6                      6.0   \n",
       "3                             6                      6.0   \n",
       "4                             6                      6.0   \n",
       "...                         ...                      ...   \n",
       "2830738                       6                      6.0   \n",
       "2830739                       6                      6.0   \n",
       "2830740                       6                      6.0   \n",
       "2830741                       6                      6.0   \n",
       "2830742                       6                      6.0   \n",
       "\n",
       "          Fwd Packet Length Std  ...   min_seg_size_forward  Active Mean  \\\n",
       "0                           0.0  ...                     20          0.0   \n",
       "1                           0.0  ...                     20          0.0   \n",
       "2                           0.0  ...                     20          0.0   \n",
       "3                           0.0  ...                     20          0.0   \n",
       "4                           0.0  ...                     20          0.0   \n",
       "...                         ...  ...                    ...          ...   \n",
       "2830738                     0.0  ...                     20          0.0   \n",
       "2830739                     0.0  ...                     20          0.0   \n",
       "2830740                     0.0  ...                     20          0.0   \n",
       "2830741                     0.0  ...                     20          0.0   \n",
       "2830742                     0.0  ...                     20          0.0   \n",
       "\n",
       "          Active Std   Active Max   Active Min  Idle Mean   Idle Std  \\\n",
       "0                0.0            0            0        0.0        0.0   \n",
       "1                0.0            0            0        0.0        0.0   \n",
       "2                0.0            0            0        0.0        0.0   \n",
       "3                0.0            0            0        0.0        0.0   \n",
       "4                0.0            0            0        0.0        0.0   \n",
       "...              ...          ...          ...        ...        ...   \n",
       "2830738          0.0            0            0        0.0        0.0   \n",
       "2830739          0.0            0            0        0.0        0.0   \n",
       "2830740          0.0            0            0        0.0        0.0   \n",
       "2830741          0.0            0            0        0.0        0.0   \n",
       "2830742          0.0            0            0        0.0        0.0   \n",
       "\n",
       "          Idle Max   Idle Min   Label  \n",
       "0                0          0  BENIGN  \n",
       "1                0          0  BENIGN  \n",
       "2                0          0  BENIGN  \n",
       "3                0          0  BENIGN  \n",
       "4                0          0  BENIGN  \n",
       "...            ...        ...     ...  \n",
       "2830738          0          0  BENIGN  \n",
       "2830739          0          0  BENIGN  \n",
       "2830740          0          0  BENIGN  \n",
       "2830741          0          0  BENIGN  \n",
       "2830742          0          0  BENIGN  \n",
       "\n",
       "[2830743 rows x 79 columns]"
      ]
     },
     "execution_count": 32,
     "metadata": {},
     "output_type": "execute_result"
    }
   ],
   "source": [
    "data"
   ]
  },
  {
   "cell_type": "code",
   "execution_count": 33,
   "id": "f6b9c003",
   "metadata": {},
   "outputs": [],
   "source": [
    "#3. Preprocessing\n",
    "#3.1 remove useless data\n",
    "#remove duplicate row\n",
    "data=data.drop_duplicates()\n",
    "#remove rows with null value and infinite value\n",
    "data=data.replace(np.inf,np.nan)\n",
    "data=data.dropna()"
   ]
  },
  {
   "cell_type": "code",
   "execution_count": 34,
   "id": "cea1d07e",
   "metadata": {},
   "outputs": [
    {
     "name": "stdout",
     "output_type": "stream",
     "text": [
      "Counter({'BENIGN': 2072476, 'DoS Hulk': 172846, 'DDoS': 128014, 'PortScan': 90694, 'DoS GoldenEye': 10286, 'FTP-Patator': 5931, 'DoS slowloris': 5385, 'DoS Slowhttptest': 5228, 'SSH-Patator': 3219, 'Bot': 1948, 'Web Attack � Brute Force': 1470, 'Web Attack � XSS': 652, 'Infiltration': 36, 'Web Attack � Sql Injection': 21, 'Heartbleed': 11})\n"
     ]
    }
   ],
   "source": [
    "X=data.iloc[:,:-1]\n",
    "y=data.iloc[:,-1]\n",
    "print(Counter(y))"
   ]
  },
  {
   "cell_type": "code",
   "execution_count": 35,
   "id": "f0adfd67",
   "metadata": {},
   "outputs": [
    {
     "name": "stdout",
     "output_type": "stream",
     "text": [
      "Counter({0: 2072476, 4: 172846, 2: 128014, 10: 90694, 3: 10286, 7: 5931, 6: 5385, 5: 5228, 11: 3219, 1: 1948, 12: 1470, 14: 652, 9: 36, 13: 21, 8: 11})\n"
     ]
    }
   ],
   "source": [
    "#Label Encoding\n",
    "le=LabelEncoder()\n",
    "le=le.fit(y)\n",
    "le.classes_\n",
    "y=le.transform(y)\n",
    "print(Counter(y))"
   ]
  },
  {
   "cell_type": "code",
   "execution_count": 36,
   "id": "c273ad02",
   "metadata": {},
   "outputs": [
    {
     "data": {
      "text/plain": [
       "1962"
      ]
     },
     "execution_count": 36,
     "metadata": {},
     "output_type": "execute_result"
    }
   ],
   "source": [
    "#Ram Clean\n",
    "del data\n",
    "gc.collect()"
   ]
  },
  {
   "cell_type": "code",
   "execution_count": 28,
   "id": "b62edac9",
   "metadata": {},
   "outputs": [],
   "source": [
    "#3.3 Scaler\n",
    "mms=MinMaxScaler()\n",
    "X=mms.fit_transform(X)"
   ]
  },
  {
   "cell_type": "code",
   "execution_count": 29,
   "id": "2ed3cf62",
   "metadata": {},
   "outputs": [],
   "source": [
    "#X=VarianceThreshold().fit_transform(X)\n",
    "#X.shape\n",
    "rfc=RandomForestClassifier(bootstrap=True,random_state=123456,n_jobs=-1)"
   ]
  },
  {
   "cell_type": "code",
   "execution_count": 12,
   "id": "40185ce1",
   "metadata": {},
   "outputs": [],
   "source": [
    "threshold=np.linspace(0,(rfc.fit(X,y).feature_importances_).max(),20)"
   ]
  },
  {
   "cell_type": "code",
   "execution_count": 13,
   "id": "71f67199",
   "metadata": {},
   "outputs": [
    {
     "data": {
      "image/png": "[encoded data removed]",
      "text/plain": [
       "<Figure size 640x480 with 1 Axes>"
      ]
     },
     "metadata": {},
     "output_type": "display_data"
    }
   ],
   "source": [
    "score=[]\n",
    "for i in threshold:\n",
    "    X_emb=SelectFromModel(rfc,threshold=i).fit_transform(X,y)\n",
    "    sc=cross_val_score(rfc,X_emb,y,cv=5).mean()\n",
    "    score.append(sc)\n",
    "plt.plot(threshold,score)\n",
    "plt.show()"
   ]
  },
  {
   "cell_type": "code",
   "execution_count": 17,
   "id": "04520838",
   "metadata": {},
   "outputs": [
    {
     "data": {
      "text/plain": [
       "([0.991601206124812,\n",
       "  0.9916932718164851,\n",
       "  0.9919022208892398,\n",
       "  0.9920203050067613,\n",
       "  0.9896153883886465,\n",
       "  0.9891046243315571,\n",
       "  0.9837668163886013,\n",
       "  0.983545458549654,\n",
       "  0.983545458549654,\n",
       "  0.9812670328280539,\n",
       "  0.9812306069032027,\n",
       "  0.984696681721452,\n",
       "  0.984696681721452,\n",
       "  0.984696681721452,\n",
       "  0.9641952584317085,\n",
       "  0.963048040000635,\n",
       "  0.963048040000635,\n",
       "  0.963048040000635,\n",
       "  0.9519072921842484,\n",
       "  0.9515226178293744],\n",
       " array([0.        , 0.00339282, 0.00678564, 0.01017846, 0.01357128,\n",
       "        0.0169641 , 0.02035692, 0.02374975, 0.02714257, 0.03053539,\n",
       "        0.03392821, 0.03732103, 0.04071385, 0.04410667, 0.04749949,\n",
       "        0.05089231, 0.05428513, 0.05767795, 0.06107077, 0.06446359]))"
      ]
     },
     "execution_count": 17,
     "metadata": {},
     "output_type": "execute_result"
    }
   ],
   "source": [
    "score,threshold"
   ]
  },
  {
   "cell_type": "code",
   "execution_count": 18,
   "id": "c6cf67cf",
   "metadata": {},
   "outputs": [],
   "source": [
    "X_em=SelectFromModel(rfc,threshold=0.01017846).fit_transform(X,y)"
   ]
  },
  {
   "cell_type": "code",
   "execution_count": 19,
   "id": "d3ec296d",
   "metadata": {},
   "outputs": [
    {
     "data": {
      "text/plain": [
       "(2498217, 36)"
      ]
     },
     "execution_count": 19,
     "metadata": {},
     "output_type": "execute_result"
    }
   ],
   "source": [
    "X_em.shape"
   ]
  },
  {
   "cell_type": "code",
   "execution_count": 20,
   "id": "6716d3cd",
   "metadata": {},
   "outputs": [
    {
     "data": {
      "text/plain": [
       "0.9920203050067613"
      ]
     },
     "execution_count": 20,
     "metadata": {},
     "output_type": "execute_result"
    }
   ],
   "source": [
    "cross_val_score(rfc,X_em,y,cv=5).mean()"
   ]
  },
  {
   "cell_type": "code",
   "execution_count": 37,
   "id": "72d2b007",
   "metadata": {},
   "outputs": [
    {
     "data": {
      "image/png": "[encoded data removed]",
      "text/plain": [
       "<Figure size 2000x500 with 1 Axes>"
      ]
     },
     "metadata": {},
     "output_type": "display_data"
    }
   ],
   "source": [
    "score2=[]\n",
    "for i in np.linspace(0,0.01017846,20):\n",
    "    X_embedded=SelectFromModel(rfc,threshold=i).fit_transform(X,y)\n",
    "    sc=cross_val_score(rfc,X_embedded,y,cv=5).mean()\n",
    "    score2.append(sc)\n",
    "plt.figure(figsize=[20,5])\n",
    "plt.plot(np.linspace(0,0.01017846,20),score2)\n",
    "plt.xticks(np.linspace(0,0.01017846,20))\n",
    "plt.show()"
   ]
  },
  {
   "cell_type": "code",
   "execution_count": 43,
   "id": "db163d1a",
   "metadata": {},
   "outputs": [
    {
     "name": "stdout",
     "output_type": "stream",
     "text": [
      "0.0\n",
      "0.0005357084210526316\n",
      "0.0010714168421052633\n",
      "0.0016071252631578948\n",
      "0.0021428336842105266\n",
      "0.0026785421052631583\n",
      "0.0032142505263157897\n",
      "0.0037499589473684214\n",
      "0.004285667368421053\n",
      "0.0048213757894736845\n",
      "0.005357084210526317\n",
      "0.005892792631578948\n",
      "0.006428501052631579\n",
      "0.0069642094736842115\n",
      "0.007499917894736843\n",
      "0.008035626315789475\n",
      "0.008571334736842106\n",
      "0.009107043157894738\n",
      "0.009642751578947369\n",
      "0.01017846\n"
     ]
    }
   ],
   "source": [
    "for i in np.linspace(0,0.01017846,20):\n",
    "    print(i)"
   ]
  },
  {
   "cell_type": "code",
   "execution_count": 45,
   "id": "f76d3c0c",
   "metadata": {},
   "outputs": [],
   "source": [
    "X_em=SelectFromModel(rfc,threshold=0.0032142505263157897).fit_transform(X,y)"
   ]
  },
  {
   "cell_type": "code",
   "execution_count": 46,
   "id": "7c2b259b",
   "metadata": {},
   "outputs": [],
   "source": [
    "#3.4 Splitting data\n",
    "X_train,X_test,y_train,y_test=model_selection.train_test_split(X_em,y,test_size=0.33,random_state=123456)"
   ]
  },
  {
   "cell_type": "code",
   "execution_count": 47,
   "id": "8b0cb88b",
   "metadata": {},
   "outputs": [
    {
     "name": "stdout",
     "output_type": "stream",
     "text": [
      "Counter({0: 1388615, 4: 115556, 2: 85778, 10: 60860, 3: 6923, 7: 3977, 6: 3704, 5: 3506, 11: 2123, 1: 1293, 12: 987, 14: 436, 9: 20, 13: 17, 8: 10})\n"
     ]
    }
   ],
   "source": [
    "print(Counter(y_train))"
   ]
  },
  {
   "cell_type": "code",
   "execution_count": 48,
   "id": "c4cf8564",
   "metadata": {},
   "outputs": [],
   "source": [
    "#4. Training\n",
    "clf=RandomForestClassifier(bootstrap=True,random_state=12345,n_jobs=-1)"
   ]
  },
  {
   "cell_type": "code",
   "execution_count": 49,
   "id": "1b0cecbe",
   "metadata": {},
   "outputs": [
    {
     "name": "stdout",
     "output_type": "stream",
     "text": [
      "Time of Training : 79.822 s\n"
     ]
    }
   ],
   "source": [
    "time1=time()\n",
    "clf.fit(X_train,y_train)\n",
    "print(\"Time of Training : {:.3f} s\".format(time()-time1))"
   ]
  },
  {
   "cell_type": "code",
   "execution_count": 50,
   "id": "4a7b5cf8",
   "metadata": {},
   "outputs": [],
   "source": [
    "y_pred_train=clf.predict(X_train) \n",
    "y_pred_test=clf.predict(X_test)"
   ]
  },
  {
   "cell_type": "code",
   "execution_count": 51,
   "id": "aea98c55",
   "metadata": {},
   "outputs": [
    {
     "name": "stdout",
     "output_type": "stream",
     "text": [
      "==Train==\n",
      "[[1388363       0       1       0      28       0       0       0       0\n",
      "        0     223       0       0       0       0]\n",
      " [      0    1293       0       0       0       0       0       0       0\n",
      "        0       0       0       0       0       0]\n",
      " [      0       0   85778       0       0       0       0       0       0\n",
      "        0       0       0       0       0       0]\n",
      " [      0       0       0    6923       0       0       0       0       0\n",
      "        0       0       0       0       0       0]\n",
      " [     39       0       0       0  115517       0       0       0       0\n",
      "        0       0       0       0       0       0]\n",
      " [      0       0       0       0       0    3506       0       0       0\n",
      "        0       0       0       0       0       0]\n",
      " [      0       0       0       0       0       0    3704       0       0\n",
      "        0       0       0       0       0       0]\n",
      " [      0       0       0       0       0       0       0    3977       0\n",
      "        0       0       0       0       0       0]\n",
      " [      0       0       0       0       0       0       0       0      10\n",
      "        0       0       0       0       0       0]\n",
      " [      0       0       0       0       0       0       0       0       0\n",
      "       20       0       0       0       0       0]\n",
      " [     17       0       0       0       0       0       0       0       0\n",
      "        0   60843       0       0       0       0]\n",
      " [      0       0       0       0       0       0       0       0       0\n",
      "        0       0    2123       0       0       0]\n",
      " [      0       0       0       0       0       0       0       0       0\n",
      "        0       0       0     987       0       0]\n",
      " [      0       0       0       0       0       0       0       0       0\n",
      "        0       0       0       0      17       0]\n",
      " [      0       0       0       0       0       0       0       0       0\n",
      "        0       0       0       0       0     436]]\n",
      "              precision    recall  f1-score   support\n",
      "\n",
      "           0       1.00      1.00      1.00   1388615\n",
      "           1       1.00      1.00      1.00      1293\n",
      "           2       1.00      1.00      1.00     85778\n",
      "           3       1.00      1.00      1.00      6923\n",
      "           4       1.00      1.00      1.00    115556\n",
      "           5       1.00      1.00      1.00      3506\n",
      "           6       1.00      1.00      1.00      3704\n",
      "           7       1.00      1.00      1.00      3977\n",
      "           8       1.00      1.00      1.00        10\n",
      "           9       1.00      1.00      1.00        20\n",
      "          10       1.00      1.00      1.00     60860\n",
      "          11       1.00      1.00      1.00      2123\n",
      "          12       1.00      1.00      1.00       987\n",
      "          13       1.00      1.00      1.00        17\n",
      "          14       1.00      1.00      1.00       436\n",
      "\n",
      "    accuracy                           1.00   1673805\n",
      "   macro avg       1.00      1.00      1.00   1673805\n",
      "weighted avg       1.00      1.00      1.00   1673805\n",
      "\n",
      "Accuracy Score =  0.9999467797268072\n",
      "Precison       =  0.999736926137972\n",
      "Recall         =  0.9999467797268072\n",
      "F1_score       =  0.9998416625159847\n"
     ]
    }
   ],
   "source": [
    "#5. Result \n",
    "#5.1 Original Data\n",
    "print(\"==Train==\")\n",
    "result=metrics.confusion_matrix(y_train,y_pred_train)\n",
    "report=metrics.classification_report(y_train,y_pred_train,zero_division=1)\n",
    "\n",
    "print(result)\n",
    "print(report)\n",
    "\n",
    "print(\"Accuracy Score = \",metrics.balanced_accuracy_score(y_train,y_pred_train))\n",
    "print(\"Precison       = \",metrics.precision_score(y_train,y_pred_train,average='macro'))\n",
    "print(\"Recall         = \",metrics.recall_score(y_train,y_pred_train,average='macro'))\n",
    "print(\"F1_score       = \",metrics.f1_score(y_train,y_pred_train,average='macro'))"
   ]
  },
  {
   "cell_type": "code",
   "execution_count": 52,
   "id": "fe8997da",
   "metadata": {},
   "outputs": [
    {
     "name": "stdout",
     "output_type": "stream",
     "text": [
      "==Test==\n",
      "[[683347     75      3      3     77     11      2      0      0      1\n",
      "     342      0      0      0      0]\n",
      " [   154    501      0      0      0      0      0      0      0      0\n",
      "       0      0      0      0      0]\n",
      " [    18      0  42217      0      1      0      0      0      0      0\n",
      "       0      0      0      0      0]\n",
      " [    13      0      0   3342      4      4      0      0      0      0\n",
      "       0      0      0      0      0]\n",
      " [   153      0      0      7  57124      0      0      0      0      0\n",
      "       6      0      0      0      0]\n",
      " [     3      0      0      1      0   1714      4      0      0      0\n",
      "       0      0      0      0      0]\n",
      " [     8      0      0      0      0      3   1670      0      0      0\n",
      "       0      0      0      0      0]\n",
      " [     2      0      0      0      0      0      0   1951      0      0\n",
      "       0      0      0      0      1]\n",
      " [     0      0      0      0      0      0      0      0      1      0\n",
      "       0      0      0      0      0]\n",
      " [     5      0      0      0      0      0      0      0      0     11\n",
      "       0      0      0      0      0]\n",
      " [   312      0      0      0      6      0      0      0      0      0\n",
      "   29514      0      1      0      1]\n",
      " [     1      0      0      0      0      0      0      0      0      0\n",
      "       0   1095      0      0      0]\n",
      " [     7      0      0      0      1      0      0      0      0      0\n",
      "       0      0    396      0     79]\n",
      " [     1      0      0      0      0      0      0      0      0      0\n",
      "       0      0      2      1      0]\n",
      " [    11      0      0      0      1      0      0      0      0      0\n",
      "       0      0    141      0     63]]\n",
      "              precision    recall  f1-score   support\n",
      "\n",
      "           0       1.00      1.00      1.00    683861\n",
      "           1       0.87      0.76      0.81       655\n",
      "           2       1.00      1.00      1.00     42236\n",
      "           3       1.00      0.99      1.00      3363\n",
      "           4       1.00      1.00      1.00     57290\n",
      "           5       0.99      1.00      0.99      1722\n",
      "           6       1.00      0.99      0.99      1681\n",
      "           7       1.00      1.00      1.00      1954\n",
      "           8       1.00      1.00      1.00         1\n",
      "           9       0.92      0.69      0.79        16\n",
      "          10       0.99      0.99      0.99     29834\n",
      "          11       1.00      1.00      1.00      1096\n",
      "          12       0.73      0.82      0.77       483\n",
      "          13       1.00      0.25      0.40         4\n",
      "          14       0.44      0.29      0.35       216\n",
      "\n",
      "    accuracy                           1.00    824412\n",
      "   macro avg       0.93      0.85      0.87    824412\n",
      "weighted avg       1.00      1.00      1.00    824412\n",
      "\n",
      "Accuracy Score =  0.8519480856601588\n",
      "Precison       =  0.9283823306325594\n",
      "Recall         =  0.8519480856601588\n",
      "F1_score       =  0.8727156195748781\n"
     ]
    }
   ],
   "source": [
    "print(\"==Test==\")\n",
    "result=metrics.confusion_matrix(y_test,y_pred_test)\n",
    "report=metrics.classification_report(y_test,y_pred_test,zero_division=1)\n",
    "\n",
    "print(result)\n",
    "print(report)\n",
    "\n",
    "print(\"Accuracy Score = \",metrics.balanced_accuracy_score(y_test,y_pred_test))\n",
    "print(\"Precison       = \",metrics.precision_score(y_test,y_pred_test,average='macro'))\n",
    "print(\"Recall         = \",metrics.recall_score(y_test,y_pred_test,average='macro'))\n",
    "print(\"F1_score       = \",metrics.f1_score(y_test,y_pred_test,average='macro'))"
   ]
  },
  {
   "cell_type": "markdown",
   "id": "38c020e3",
   "metadata": {},
   "source": [
    "### Random Forest With Original Data\n",
    "Accuracy Score =  0.8339877858220367\n",
    "Precison       =  0.9334938648682805\n",
    "Recall         =  0.8339877858220367\n",
    "F1_score       =  0.8596253090330319"
   ]
  },
  {
   "cell_type": "markdown",
   "id": "3eb2196a",
   "metadata": {},
   "source": [
    "### chi2\n",
    "k=40\n",
    "Accuracy Score =  0.8571673854340448\n",
    "Precison       =  0.9312930927300515\n",
    "Recall         =  0.8571673854340448\n",
    "F1_score       =  0.8844409291224661"
   ]
  },
  {
   "cell_type": "markdown",
   "id": "454e30a2",
   "metadata": {},
   "source": [
    "### chi2\n",
    "k=38\n",
    "Accuracy Score =  0.8721818711264772\n",
    "Precison       =  0.933530732209585\n",
    "Recall         =  0.8721818711264772\n",
    "F1_score       =  0.8942931895421073"
   ]
  },
  {
   "cell_type": "markdown",
   "id": "bd332fdf",
   "metadata": {},
   "source": [
    "###Select from model  threshold=0.01017846\n",
    "Accuracy Score =  0.8522627306949482\n",
    "Precison       =  0.9273986418654943\n",
    "Recall         =  0.8522627306949482\n",
    "F1_score       =  0.8732862194641502"
   ]
  }
 ],
 "metadata": {
  "kernelspec": {
   "display_name": "Python 3 (ipykernel)",
   "language": "python",
   "name": "python3"
  },
  "language_info": {
   "codemirror_mode": {
    "name": "ipython",
    "version": 3
   },
   "file_extension": ".py",
   "mimetype": "text/x-python",
   "name": "python",
   "nbconvert_exporter": "python",
   "pygments_lexer": "ipython3",
   "version": "3.9.12"
  }
 },
 "nbformat": 4,
 "nbformat_minor": 5
}
